{
 "cells": [
  {
   "cell_type": "code",
   "execution_count": 1,
   "metadata": {},
   "outputs": [],
   "source": [
    "#Import the necessary methods from tweepy library\n",
    "import json\n",
    "import pandas as pd\n",
    "import numpy as np\n",
    "import matplotlib.pyplot as plt\n",
    "from matplotlib.pyplot import cm\n",
    "import seaborn as sns\n",
    "import csv\n",
    "from collections import Counter\n",
    "#from config import *\n",
    "from tweepy.streaming import StreamListener\n",
    "from tweepy import OAuthHandler\n",
    "from tweepy import Stream\n",
    "from tweepy import API\n",
    "from tweepy import Cursor\n",
    "import datetime\n",
    "\n",
    "import nltk\n",
    "import string\n",
    "from nltk.corpus import stopwords\n",
    "from nltk.stem.porter import PorterStemmer\n",
    "from nltk import pos_tag\n",
    "\n",
    "import time\n",
    "from collections import defaultdict\n",
    "import collections\n",
    "from numpy import linalg as la\n",
    "import re\n",
    "import math\n",
    "import ast"
   ]
  },
  {
   "cell_type": "code",
   "execution_count": 2,
   "metadata": {},
   "outputs": [
    {
     "output_type": "execute_result",
     "data": {
      "text/plain": "                                                text   user  \\\n0  [hey, houston, #washyourhand, #stayhomestaysaf...  33019   \n1                  [told, grey, need, remind, covid]  81446   \n2  [recent, report, show, #hospit, across, countr...  43087   \n3  [shout, fellow, covid, longterm, survivor, wee...   1035   \n4  [moment, strength, bout, covid, use, write, fa...   1035   \n\n                                                 url  \\\n0  https://twitter.com/MTrujil35563249/status/133...   \n1  https://twitter.com/kaixoxokai/status/13302999...   \n2  https://twitter.com/RaveMSafety/status/1330299...   \n3  https://twitter.com/6MonstersMake8/status/1330...   \n4  https://twitter.com/6MonstersMake8/status/1330...   \n\n                                       original_text  \\\n0  Hey, Houston #WashYourHands #StayHomeStaySafe ...   \n1   Who told Greys we needed more reminders of covid   \n2  Recent reports show #hospitals across the coun...   \n3  Shout out to my fellow Covid long-term survivo...   \n4  I had a moment of strength during my bout of C...   \n\n                             date  \\\n0  Sat Nov 21 23:59:59 +0000 2020   \n1  Sat Nov 21 23:59:59 +0000 2020   \n2  Sat Nov 21 23:59:59 +0000 2020   \n3  Sat Nov 21 23:59:59 +0000 2020   \n4  Sat Nov 21 23:59:58 +0000 2020   \n\n                                            hashtags  likes  retweets  Cluster  \n0  [{'text': 'WashYourHands', 'indices': [13, 27]...      0         0        0  \n1                                                 []      4         0        0  \n2       [{'text': 'hospitals', 'indices': [20, 30]}]      1         0        5  \n3                                                 []      0         0        0  \n4                                                 []      0         0        0  ",
      "text/html": "<div>\n<style scoped>\n    .dataframe tbody tr th:only-of-type {\n        vertical-align: middle;\n    }\n\n    .dataframe tbody tr th {\n        vertical-align: top;\n    }\n\n    .dataframe thead th {\n        text-align: right;\n    }\n</style>\n<table border=\"1\" class=\"dataframe\">\n  <thead>\n    <tr style=\"text-align: right;\">\n      <th></th>\n      <th>text</th>\n      <th>user</th>\n      <th>url</th>\n      <th>original_text</th>\n      <th>date</th>\n      <th>hashtags</th>\n      <th>likes</th>\n      <th>retweets</th>\n      <th>Cluster</th>\n    </tr>\n  </thead>\n  <tbody>\n    <tr>\n      <th>0</th>\n      <td>[hey, houston, #washyourhand, #stayhomestaysaf...</td>\n      <td>33019</td>\n      <td>https://twitter.com/MTrujil35563249/status/133...</td>\n      <td>Hey, Houston #WashYourHands #StayHomeStaySafe ...</td>\n      <td>Sat Nov 21 23:59:59 +0000 2020</td>\n      <td>[{'text': 'WashYourHands', 'indices': [13, 27]...</td>\n      <td>0</td>\n      <td>0</td>\n      <td>0</td>\n    </tr>\n    <tr>\n      <th>1</th>\n      <td>[told, grey, need, remind, covid]</td>\n      <td>81446</td>\n      <td>https://twitter.com/kaixoxokai/status/13302999...</td>\n      <td>Who told Greys we needed more reminders of covid</td>\n      <td>Sat Nov 21 23:59:59 +0000 2020</td>\n      <td>[]</td>\n      <td>4</td>\n      <td>0</td>\n      <td>0</td>\n    </tr>\n    <tr>\n      <th>2</th>\n      <td>[recent, report, show, #hospit, across, countr...</td>\n      <td>43087</td>\n      <td>https://twitter.com/RaveMSafety/status/1330299...</td>\n      <td>Recent reports show #hospitals across the coun...</td>\n      <td>Sat Nov 21 23:59:59 +0000 2020</td>\n      <td>[{'text': 'hospitals', 'indices': [20, 30]}]</td>\n      <td>1</td>\n      <td>0</td>\n      <td>5</td>\n    </tr>\n    <tr>\n      <th>3</th>\n      <td>[shout, fellow, covid, longterm, survivor, wee...</td>\n      <td>1035</td>\n      <td>https://twitter.com/6MonstersMake8/status/1330...</td>\n      <td>Shout out to my fellow Covid long-term survivo...</td>\n      <td>Sat Nov 21 23:59:59 +0000 2020</td>\n      <td>[]</td>\n      <td>0</td>\n      <td>0</td>\n      <td>0</td>\n    </tr>\n    <tr>\n      <th>4</th>\n      <td>[moment, strength, bout, covid, use, write, fa...</td>\n      <td>1035</td>\n      <td>https://twitter.com/6MonstersMake8/status/1330...</td>\n      <td>I had a moment of strength during my bout of C...</td>\n      <td>Sat Nov 21 23:59:58 +0000 2020</td>\n      <td>[]</td>\n      <td>0</td>\n      <td>0</td>\n      <td>0</td>\n    </tr>\n  </tbody>\n</table>\n</div>"
     },
     "metadata": {},
     "execution_count": 2
    }
   ],
   "source": [
    "data=pd.read_csv('clustering.csv')\n",
    "data.text=data.text.apply(lambda x: ast.literal_eval(x))\n",
    "data.head()"
   ]
  },
  {
   "cell_type": "code",
   "execution_count": 3,
   "metadata": {},
   "outputs": [],
   "source": [
    "def read_dict_to_file(filename):\n",
    "    with open(filename, 'r') as file:\n",
    "        aux = file.read()\n",
    "    return json.loads(aux)\n",
    "\n",
    "# Read index, tf and idf from files\n",
    "index = read_dict_to_file('index.json')\n",
    "tf = read_dict_to_file('tf.json')\n",
    "idf =read_dict_to_file('idf.json')"
   ]
  },
  {
   "cell_type": "code",
   "execution_count": 4,
   "metadata": {},
   "outputs": [],
   "source": [
    "punctuation = string.punctuation.replace('#','').replace('@','')+'…'\n",
    "def preprocess_tweet(tweets_series):\n",
    "    # Lowercasing text\n",
    "    tweets_series = tweets_series.apply(lambda x: x.lower())\n",
    "\n",
    "    # Remove URLS (https and www), mentions and rt\n",
    "    tweets_series = tweets_series.apply(lambda x: re.sub(r'https?//\\S+|www.\\S+|@\\w*|^rt','', x))\n",
    "    \n",
    "    #Removing numbers\n",
    "    tweets_series=tweets_series.apply(lambda x: re.sub(r\"([0-9])\",'', x))\n",
    "\n",
    "    # Remove punctuation except # (hashtags)\n",
    "    tweets_series = tweets_series.apply(lambda x: \"\".join([char for char in x if char not in punctuation]))\n",
    "\n",
    "    # Replacing symbol ’ for ' as they mean the same and it is needed to correctly remove stopwords\n",
    "    tweets_series = tweets_series.apply(lambda x: x.replace(\"’\",\"\").replace('“',\"\").replace('”',''))\n",
    "    \n",
    "    #Removing emojis\n",
    "    tweets_series=tweets_series.apply(lambda x: x.encode('ascii', 'ignore').decode('ascii'))\n",
    "\n",
    "    # Tokenize text \n",
    "    tweets_series = tweets_series.apply(lambda x: x.split())\n",
    "\n",
    "    # Removing stop words\n",
    "    stop_words = stopwords.words('english')\n",
    "    tweets_series = tweets_series.apply(lambda x: [word for word in x if word not in stop_words])\n",
    "                \n",
    "    # Stemming\n",
    "    porter = PorterStemmer()\n",
    "    tweets_series = tweets_series.apply(lambda x: [porter.stem(word) for word in x]) \n",
    "\n",
    "    return tweets_series"
   ]
  },
  {
   "cell_type": "markdown",
   "metadata": {},
   "source": [
    "# Search Engine Build "
   ]
  },
  {
   "cell_type": "code",
   "execution_count": 5,
   "metadata": {},
   "outputs": [],
   "source": [
    "def rankDocuments(query_terms, docs, index, idf, tf, method='tf-idf'):\n",
    "    \"\"\"\n",
    "    Perform the ranking of the results of a search based with tf-idf or popular (own score)\n",
    "    \n",
    "    Argument:\n",
    "    query_terms -- list of query terms\n",
    "    docs -- list of documents, to rank, matching the query\n",
    "    index -- inverted index data structure\n",
    "    idf -- inverted document frequencies\n",
    "    tf -- term frequencies\n",
    "    \n",
    "    Returns:\n",
    "    Print the list of ranked documents\n",
    "    \"\"\"\n",
    "    global data\n",
    "    df = data.iloc[docs,:]    \n",
    "    # I'm interested only on the element of the docVector corresponding to the query terms \n",
    "    # The remaing elements would became 0 when multiplied to the queryVector\n",
    "    docVectors=defaultdict(lambda: [0]*len(query_terms)) # I call docVectors[k] for a nonexistent key k, the key-value pair (k,[0]*len(terms)) will be automatically added to the dictionary\n",
    "    queryVector=[0]*len(query_terms)    \n",
    "\n",
    "    # compute the norm for the query tf\n",
    "    query_terms_count = collections.Counter(query_terms) # get the frequency of each term in the query. \n",
    "    # Example: collections.Counter([\"hello\",\"hello\",\"world\"]) --> Counter({'hello': 2, 'world': 1})\n",
    "    \n",
    "    # HINT: use when computing tf for queryVector   \n",
    "    query_norm = la.norm(list(query_terms_count.values()))\n",
    "\n",
    "    for termIndex, term in enumerate(query_terms): #termIndex is the index of the term in the query\n",
    "        if term not in index:\n",
    "            continue\n",
    "                    \n",
    "        ## Compute tf*idf(normalize tf as done with documents)\n",
    "        queryVector[termIndex]=query_terms_count[term]/query_norm * idf[term] \n",
    "\n",
    "        # Generate docVectors for matching docs\n",
    "        for docIndex, (doc, postings) in enumerate(index[term]):\n",
    "            # Example of [docIndex, (doc, postings)]\n",
    "            # 0 ([26, 2],[34,1])\n",
    "            # 1 (33, array('I', [26, 33, 57, 71, 87, 104, 109]))\n",
    "            # term is in doc 26 in positions 1,4, .....\n",
    "            # term is in doc 33 in positions 26,33, .....\n",
    "            #tf[term][0] will contain the tf of the term \"term\" in the doc 26            \n",
    "            if doc in docs:\n",
    "                docVectors[doc][termIndex]=tf[term][docIndex] #* idf[term]  # TODO: check if multiply for idf\n",
    "                \n",
    "    # calculate the score of each doc\n",
    "    # compute the cosine similarity between queryVector and each docVector:\n",
    "    # HINT: you can use the dot product because in case of normalized vectors it corresponds to the cosine siilarity\n",
    "    # see np.dot\n",
    "    \n",
    "    if method == 'popular':\n",
    "        docScores=[ [0.4*np.dot(curDocVec, queryVector) + 0.3*np.log(data['likes'].loc[doc] + 1)/np.log(data['likes'].max() + 1) +0.3*np.log(data.retweets.loc[doc] + 1)/np.log(data.retweets.max() + 1) ,doc] for doc, curDocVec in docVectors.items() ]\n",
    "        \n",
    "    elif (method == 'disparity'):\n",
    "        docScores=[ [0.4*np.dot(curDocVec, queryVector) + 0.3*np.log(data['likes'].loc[doc] + 1)/np.log(data['likes'].max() + 1) +0.3*np.log(data.retweets.loc[doc] + 1)/np.log(data.retweets.max() + 1) - (df.Cluster.value_counts()/df.Cluster.value_counts().sum())[df.loc[doc,'Cluster']]*0.356 ,doc] for doc, curDocVec in docVectors.items() ]\n",
    "        \n",
    "    else:\n",
    "        docScores=[ [np.dot(curDocVec, queryVector),doc] for doc, curDocVec in docVectors.items() ]\n",
    "    \n",
    "   \n",
    "    docScores.sort(reverse=True)\n",
    "    resultDocs=[x[1] for x in docScores]\n",
    "    \n",
    "    if len(resultDocs) == 0:\n",
    "        print(\"No results found, try again\\n\")\n",
    "        query = input(\"Insert your query:\")\n",
    "        resultDocs = search_tf_idf(query, index, method)    \n",
    "    #print ('\\n'.join(resultDocs), '\\n')\n",
    "    \n",
    "    return resultDocs"
   ]
  },
  {
   "cell_type": "code",
   "execution_count": 6,
   "metadata": {},
   "outputs": [],
   "source": [
    "def search_tf_idf(query, index, method):\n",
    "    '''\n",
    "    output is the list of documents that contain all of the query terms. \n",
    "    So, we will get the list of documents for each query term, and take the intersection of them.\n",
    "    '''\n",
    "    query=preprocess_tweet(pd.Series(query)).values[0]\n",
    "\n",
    "    docs=set()\n",
    "    for term in query:\n",
    "        try:\n",
    "            # store in termDocs the ids of the docs that contain \"term\"\n",
    "            termDocs=[posting[0] for posting in index[term]]\n",
    "\n",
    "            # Set containing docs with all query terms\n",
    "            if len(docs) == 0:\n",
    "                docs = docs.union(termDocs) \n",
    "            else:\n",
    "                docs = docs.intersection(termDocs)\n",
    "        except:\n",
    "            #term is not in index\n",
    "            pass\n",
    "    docs=list(docs)\n",
    "    ranked_docs = rankDocuments(query, docs, index, idf, tf, method)\n",
    "\n",
    "    return ranked_docs\n"
   ]
  },
  {
   "cell_type": "code",
   "execution_count": 7,
   "metadata": {
    "tags": []
   },
   "outputs": [
    {
     "output_type": "stream",
     "name": "stdout",
     "text": "=======================================\n\nTweet ID: 17678   URL: https://twitter.com/DJImmekus/status/1331743463440728064\nDate: Wed Nov 25 23:35:58 +0000 2020\nUser: 12849   Hashtags: []\nCluster: -1   Retweets: 0   Likes: 1\nTweet: Government helping with Covid lockdowns ...... https//t.co/qZpvvbz7LD\n\n=======================================\n\nTweet ID: 15537   URL: https://twitter.com/alaubsch/status/1331745092323995648\nDate: Wed Nov 25 23:42:27 +0000 2020\nUser: 59492   Hashtags: []\nCluster: 11   Retweets: 0   Likes: 1\nTweet: Lockdowns vs. COVID19 Covid Wins https//t.co/Lx5kZhraJ8\n\n=======================================\n\nTweet ID: 9396   URL: https://twitter.com/dennisclang/status/1330293553860370440\nDate: Sat Nov 21 23:34:33 +0000 2020\nUser: 69475   Hashtags: []\nCluster: 6   Retweets: 0   Likes: 0\nTweet: @91491 @15352 The PCR testing was just after the end of lockdowns, anyone who had had COVID was likely t… https//t.co/ACYHGcSOxx\n\n=======================================\n\nTweet ID: 3267   URL: https://twitter.com/MRSS11224611/status/1330297654014832641\nDate: Sat Nov 21 23:50:51 +0000 2020\nUser: 32925   Hashtags: []\nCluster: 8   Retweets: 0   Likes: 1\nTweet: @12816 @13176 Where's the proof that lockdowns have had ANY effect on transmission of covid at all? Ther… https//t.co/roVj1ytquu\n\n=======================================\n\nTweet ID: 15815   URL: https://twitter.com/merja_rantala/status/1331744870084579328\nDate: Wed Nov 25 23:41:34 +0000 2020\nUser: 87832   Hashtags: []\nCluster: -1   Retweets: 3   Likes: 19\nTweet: 😥 Unicef warns lockdown could kill more than Covid-19 as model predicts 1.2 million child deaths https//t.co/yqj6iujAc3\n\n=======================================\n\nTweet ID: 33126   URL: https://twitter.com/SimmonsBart/status/1331017266255835147\nDate: Mon Nov 23 23:30:20 +0000 2020\nUser: 47892   Hashtags: [{'text': 'COVID', 'indices': [0, 6]}]\nCluster: -1   Retweets: 4   Likes: 13\nTweet: #COVID is spread respiratorily yet COVID is a diet related disease. Of course there are outliers. Lockdowns, social… https//t.co/v0mssWrp16\n\n=======================================\n\nTweet ID: 25627   URL: https://twitter.com/MelissaSweetDr/status/1331022226330566657\nDate: Mon Nov 23 23:50:02 +0000 2020\nUser: 34998   Hashtags: []\nCluster: -1   Retweets: 2   Likes: 2\nTweet: Climate crisis CO2 hits new record despite Covid-19 lockdowns ⁦@CroakeyNews⁩ https//t.co/ewLuDWS0iu\n\n=======================================\n\nTweet ID: 11796   URL: https://twitter.com/Flobga/status/1331747983138942976\nDate: Wed Nov 25 23:53:56 +0000 2020\nUser: 18595   Hashtags: []\nCluster: 8   Retweets: 1   Likes: 2\nTweet: Lockdowns, masks &amp; vaccines Ben Swann's Covid podcast https//t.co/UinvQnAcQF via @56783\n\n=======================================\n\nTweet ID: 9357   URL: https://twitter.com/LakerJoe2/status/1330293586760523776\nDate: Sat Nov 21 23:34:41 +0000 2020\nUser: 30298   Hashtags: []\nCluster: 8   Retweets: 3   Likes: 14\nTweet: Lockdown begins tonight in the State of California Stay safe y’all wear a mask 😷 to prevent the spread of COVID 🙏🏽🙌🏽👍🏽\n\n=======================================\n\nTweet ID: 5192   URL: https://twitter.com/dutty127/status/1330296380389289991\nDate: Sat Nov 21 23:45:47 +0000 2020\nUser: 70959   Hashtags: []\nCluster: 8   Retweets: 0   Likes: 1\nTweet: Hey @78039 why did you lock down my account for replying to @26023 that if he ignored Covid rules and lockdowns… https//t.co/pjie1Q1iHZ\n\n=======================================\n\n"
    }
   ],
   "source": [
    "query = input(\"Insert your query:\")\n",
    "ranked_docs = search_tf_idf(query, index, method='disparity')    \n",
    "top = 10\n",
    "results_df = data.loc[ranked_docs[:top]][['original_text','url','user','date','hashtags','retweets','Cluster','likes']]\n",
    "\n",
    "print('=======================================\\n')\n",
    "for ind, row in results_df.iterrows():\n",
    "    print('Tweet ID:',ind,'  URL:',row.url)\n",
    "    print('Date:',row.date)\n",
    "    print('User:',row.user,'  Hashtags:',row.hashtags)\n",
    "    print('Cluster:',row.Cluster,'  Retweets:',row.retweets,'  Likes:',row.likes)\n",
    "    print('Tweet:',row.original_text)\n",
    "    print('\\n=======================================\\n')\n"
   ]
  },
  {
   "cell_type": "code",
   "execution_count": 8,
   "metadata": {},
   "outputs": [],
   "source": [
    "queries_list=[\"trump\",\"quarantine\",\"covid lockdown\"]"
   ]
  },
  {
   "cell_type": "code",
   "execution_count": 9,
   "metadata": {},
   "outputs": [],
   "source": [
    "with open('with_diversification_queries.tsv','w', encoding='utf-8') as f:\n",
    "    for query in queries_list:\n",
    "        # Using tf-idf\n",
    "        ranked_docs = search_tf_idf(query, index, method='disparity')    \n",
    "        top = 20\n",
    "        results_df = data.loc[ranked_docs[:top]][['original_text','url','user','date','hashtags','likes','retweets','Cluster']]\n",
    "        f.write('Query:'+query+'\\n')\n",
    "        f.write('=======================================\\n')\n",
    "        for ind, row in results_df.iterrows():\n",
    "            f.write('Tweet ID: '+str(ind)+'  URL: '+str(row.url)+'\\n')\n",
    "            f.write('Date: '+str(row.date)+'\\n')\n",
    "            f.write('User: '+str(row.user)+'  Hashtags: '+str(row.hashtags)+'\\n')\n",
    "            f.write('Likes: '+str(row.likes)+'  Retweets: '+str(row.retweets)+'  Cluster: '+str(row.Cluster)+'\\n')\n",
    "            f.write('Tweet: '+str(row.original_text)+'\\n')\n",
    "            f.write('=======================================\\n')\n",
    "        f.writelines('\\n\\n\\n')\n"
   ]
  },
  {
   "cell_type": "code",
   "execution_count": 10,
   "metadata": {},
   "outputs": [],
   "source": [
    "with open('without_diversification_queries.tsv','w', encoding='utf-8') as f:\n",
    "    for query in queries_list:\n",
    "        # Using tf-idf\n",
    "        ranked_docs = search_tf_idf(query, index, method='popular')    \n",
    "        top = 20\n",
    "        results_df = data.loc[ranked_docs[:top]][['original_text','url','user','date','hashtags','likes','retweets','Cluster']]\n",
    "        f.write('Query:'+query+'\\n')\n",
    "        f.write('=======================================\\n')\n",
    "        for ind, row in results_df.iterrows():\n",
    "            f.write('Tweet ID: '+str(ind)+'  URL: '+str(row.url)+'\\n')\n",
    "            f.write('Date: '+str(row.date)+'\\n')\n",
    "            f.write('User: '+str(row.user)+'  Hashtags: '+str(row.hashtags)+'\\n')\n",
    "            f.write('Likes: '+str(row.likes)+'  Retweets: '+str(row.retweets)+'  Cluster: '+str(row.Cluster)+'\\n')\n",
    "            f.write('Tweet: '+str(row.original_text)+'\\n')\n",
    "            f.write('=======================================\\n')\n",
    "        f.writelines('\\n\\n\\n')\n"
   ]
  },
  {
   "cell_type": "code",
   "execution_count": 11,
   "metadata": {
    "tags": []
   },
   "outputs": [
    {
     "output_type": "stream",
     "name": "stdout",
     "text": "=======================================\n\n=======================================\n\n=======================================\n\n"
    }
   ],
   "source": [
    "with_disparity = []\n",
    "for query in queries_list:\n",
    "    # Using tf-idf\n",
    "    ranked_docs = search_tf_idf(query, index, method='disparity')    \n",
    "    top = 20\n",
    "    results_df = data.loc[ranked_docs[:top]][['original_text','url','user','date','hashtags','likes','retweets','Cluster']]\n",
    "    print('=======================================\\n')\n",
    "    for ind, row in results_df.iterrows():\n",
    "        with_disparity.append(row.Cluster)"
   ]
  },
  {
   "cell_type": "code",
   "execution_count": 12,
   "metadata": {
    "tags": []
   },
   "outputs": [
    {
     "output_type": "stream",
     "name": "stdout",
     "text": "=======================================\n\n=======================================\n\n=======================================\n\n"
    }
   ],
   "source": [
    "without_disparity = []\n",
    "for query in queries_list:\n",
    "    # Using tf-idf\n",
    "    ranked_docs = search_tf_idf(query, index, method='popular')    \n",
    "    top = 20\n",
    "    results_df = data.loc[ranked_docs[:top]][['original_text','url','user','date','hashtags','likes','retweets','Cluster']]\n",
    "    print('=======================================\\n')\n",
    "    for ind, row in results_df.iterrows():\n",
    "        without_disparity.append(row.Cluster)"
   ]
  },
  {
   "cell_type": "code",
   "execution_count": 13,
   "metadata": {},
   "outputs": [],
   "source": [
    "qq = np.repeat(queries_list,20)"
   ]
  },
  {
   "cell_type": "code",
   "execution_count": 14,
   "metadata": {},
   "outputs": [],
   "source": [
    "percentile_list = pd.DataFrame(\n",
    "    {'with disparity': with_disparity,\n",
    "     'without disparity': without_disparity},index=qq)"
   ]
  },
  {
   "cell_type": "code",
   "execution_count": 15,
   "metadata": {},
   "outputs": [],
   "source": [
    "Q1 = percentile_list[percentile_list.index==queries_list[0]]\n",
    "Q2 = percentile_list[percentile_list.index==queries_list[1]]\n",
    "Q3 = percentile_list[percentile_list.index==queries_list[2]]"
   ]
  },
  {
   "source": [
    "## Query 1 results"
   ],
   "cell_type": "markdown",
   "metadata": {}
  },
  {
   "cell_type": "code",
   "execution_count": 37,
   "metadata": {},
   "outputs": [
    {
     "output_type": "execute_result",
     "data": {
      "text/plain": "       with disparity  without disparity\ntrump               6                  0\ntrump              -1                  0\ntrump               4                  0\ntrump               4                  0\ntrump              12                  0\ntrump               4                  0\ntrump               4                  0\ntrump               0                  0\ntrump               4                  0\ntrump               0                  0\ntrump              -1                  6\ntrump               0                 -1\ntrump               4                  4\ntrump              12                  0\ntrump               0                  0\ntrump               4                  0\ntrump               4                  0\ntrump               4                  0\ntrump               0                  0\ntrump               0                  0",
      "text/html": "<div>\n<style scoped>\n    .dataframe tbody tr th:only-of-type {\n        vertical-align: middle;\n    }\n\n    .dataframe tbody tr th {\n        vertical-align: top;\n    }\n\n    .dataframe thead th {\n        text-align: right;\n    }\n</style>\n<table border=\"1\" class=\"dataframe\">\n  <thead>\n    <tr style=\"text-align: right;\">\n      <th></th>\n      <th>with disparity</th>\n      <th>without disparity</th>\n    </tr>\n  </thead>\n  <tbody>\n    <tr>\n      <th>trump</th>\n      <td>6</td>\n      <td>0</td>\n    </tr>\n    <tr>\n      <th>trump</th>\n      <td>-1</td>\n      <td>0</td>\n    </tr>\n    <tr>\n      <th>trump</th>\n      <td>4</td>\n      <td>0</td>\n    </tr>\n    <tr>\n      <th>trump</th>\n      <td>4</td>\n      <td>0</td>\n    </tr>\n    <tr>\n      <th>trump</th>\n      <td>12</td>\n      <td>0</td>\n    </tr>\n    <tr>\n      <th>trump</th>\n      <td>4</td>\n      <td>0</td>\n    </tr>\n    <tr>\n      <th>trump</th>\n      <td>4</td>\n      <td>0</td>\n    </tr>\n    <tr>\n      <th>trump</th>\n      <td>0</td>\n      <td>0</td>\n    </tr>\n    <tr>\n      <th>trump</th>\n      <td>4</td>\n      <td>0</td>\n    </tr>\n    <tr>\n      <th>trump</th>\n      <td>0</td>\n      <td>0</td>\n    </tr>\n    <tr>\n      <th>trump</th>\n      <td>-1</td>\n      <td>6</td>\n    </tr>\n    <tr>\n      <th>trump</th>\n      <td>0</td>\n      <td>-1</td>\n    </tr>\n    <tr>\n      <th>trump</th>\n      <td>4</td>\n      <td>4</td>\n    </tr>\n    <tr>\n      <th>trump</th>\n      <td>12</td>\n      <td>0</td>\n    </tr>\n    <tr>\n      <th>trump</th>\n      <td>0</td>\n      <td>0</td>\n    </tr>\n    <tr>\n      <th>trump</th>\n      <td>4</td>\n      <td>0</td>\n    </tr>\n    <tr>\n      <th>trump</th>\n      <td>4</td>\n      <td>0</td>\n    </tr>\n    <tr>\n      <th>trump</th>\n      <td>4</td>\n      <td>0</td>\n    </tr>\n    <tr>\n      <th>trump</th>\n      <td>0</td>\n      <td>0</td>\n    </tr>\n    <tr>\n      <th>trump</th>\n      <td>0</td>\n      <td>0</td>\n    </tr>\n  </tbody>\n</table>\n</div>"
     },
     "metadata": {},
     "execution_count": 37
    }
   ],
   "source": [
    "Q1"
   ]
  },
  {
   "cell_type": "code",
   "execution_count": 33,
   "metadata": {},
   "outputs": [],
   "source": [
    "cmap = sns.diverging_palette(250, 10, as_cmap=True)"
   ]
  },
  {
   "cell_type": "code",
   "execution_count": 34,
   "metadata": {},
   "outputs": [
    {
     "output_type": "display_data",
     "data": {
      "text/plain": "<Figure size 432x288 with 2 Axes>",
      "image/svg+xml": "<?xml version=\"1.0\" encoding=\"utf-8\" standalone=\"no\"?>\n<!DOCTYPE svg PUBLIC \"-//W3C//DTD SVG 1.1//EN\"\n  \"http://www.w3.org/Graphics/SVG/1.1/DTD/svg11.dtd\">\n<!-- Created with matplotlib (https://matplotlib.org/) -->\n<svg height=\"252.317344pt\" version=\"1.1\" viewBox=\"0 0 349.43325 252.317344\" width=\"349.43325pt\" xmlns=\"http://www.w3.org/2000/svg\" xmlns:xlink=\"http://www.w3.org/1999/xlink\">\n <defs>\n  <style type=\"text/css\">\n*{stroke-linecap:butt;stroke-linejoin:round;}\n  </style>\n </defs>\n <g id=\"figure_1\">\n  <g id=\"patch_1\">\n   <path d=\"M -0 252.317344 \nL 349.43325 252.317344 \nL 349.43325 0 \nL -0 0 \nz\n\" style=\"fill:none;\"/>\n  </g>\n  <g id=\"axes_1\">\n   <g id=\"patch_2\">\n    <path d=\"M 23.878125 228.439219 \nL 291.718125 228.439219 \nL 291.718125 10.999219 \nL 23.878125 10.999219 \nz\n\" style=\"fill:#ffffff;\"/>\n   </g>\n   <g id=\"QuadMesh_1\">\n    <path clip-path=\"url(#pcc874fab53)\" d=\"M 23.878125 10.999219 \nL 157.798125 10.999219 \nL 157.798125 119.719219 \nL 23.878125 119.719219 \nL 23.878125 10.999219 \n\" style=\"fill:#da3b46;\"/>\n    <path clip-path=\"url(#pcc874fab53)\" d=\"M 157.798125 10.999219 \nL 291.718125 10.999219 \nL 291.718125 119.719219 \nL 157.798125 119.719219 \nL 157.798125 10.999219 \n\" style=\"fill:#4479bb;\"/>\n    <path clip-path=\"url(#pcc874fab53)\" d=\"M 23.878125 119.719219 \nL 157.798125 119.719219 \nL 157.798125 228.439219 \nL 23.878125 228.439219 \nL 23.878125 119.719219 \n\" style=\"fill:#4479bb;\"/>\n    <path clip-path=\"url(#pcc874fab53)\" d=\"M 157.798125 119.719219 \nL 291.718125 119.719219 \nL 291.718125 228.439219 \nL 157.798125 228.439219 \nL 157.798125 119.719219 \n\" style=\"fill:#da3b46;\"/>\n   </g>\n   <g id=\"matplotlib.axis_1\">\n    <g id=\"xtick_1\">\n     <g id=\"line2d_1\">\n      <defs>\n       <path d=\"M 0 0 \nL 0 3.5 \n\" id=\"m7ccc7532be\" style=\"stroke:#000000;stroke-width:0.8;\"/>\n      </defs>\n      <g>\n       <use style=\"stroke:#000000;stroke-width:0.8;\" x=\"90.838125\" xlink:href=\"#m7ccc7532be\" y=\"228.439219\"/>\n      </g>\n     </g>\n     <g id=\"text_1\">\n      <!-- 0 -->\n      <defs>\n       <path d=\"M 31.78125 66.40625 \nQ 24.171875 66.40625 20.328125 58.90625 \nQ 16.5 51.421875 16.5 36.375 \nQ 16.5 21.390625 20.328125 13.890625 \nQ 24.171875 6.390625 31.78125 6.390625 \nQ 39.453125 6.390625 43.28125 13.890625 \nQ 47.125 21.390625 47.125 36.375 \nQ 47.125 51.421875 43.28125 58.90625 \nQ 39.453125 66.40625 31.78125 66.40625 \nz\nM 31.78125 74.21875 \nQ 44.046875 74.21875 50.515625 64.515625 \nQ 56.984375 54.828125 56.984375 36.375 \nQ 56.984375 17.96875 50.515625 8.265625 \nQ 44.046875 -1.421875 31.78125 -1.421875 \nQ 19.53125 -1.421875 13.0625 8.265625 \nQ 6.59375 17.96875 6.59375 36.375 \nQ 6.59375 54.828125 13.0625 64.515625 \nQ 19.53125 74.21875 31.78125 74.21875 \nz\n\" id=\"DejaVuSans-48\"/>\n      </defs>\n      <g transform=\"translate(87.656875 243.037656)scale(0.1 -0.1)\">\n       <use xlink:href=\"#DejaVuSans-48\"/>\n      </g>\n     </g>\n    </g>\n    <g id=\"xtick_2\">\n     <g id=\"line2d_2\">\n      <g>\n       <use style=\"stroke:#000000;stroke-width:0.8;\" x=\"224.758125\" xlink:href=\"#m7ccc7532be\" y=\"228.439219\"/>\n      </g>\n     </g>\n     <g id=\"text_2\">\n      <!-- 1 -->\n      <defs>\n       <path d=\"M 12.40625 8.296875 \nL 28.515625 8.296875 \nL 28.515625 63.921875 \nL 10.984375 60.40625 \nL 10.984375 69.390625 \nL 28.421875 72.90625 \nL 38.28125 72.90625 \nL 38.28125 8.296875 \nL 54.390625 8.296875 \nL 54.390625 0 \nL 12.40625 0 \nz\n\" id=\"DejaVuSans-49\"/>\n      </defs>\n      <g transform=\"translate(221.576875 243.037656)scale(0.1 -0.1)\">\n       <use xlink:href=\"#DejaVuSans-49\"/>\n      </g>\n     </g>\n    </g>\n   </g>\n   <g id=\"matplotlib.axis_2\">\n    <g id=\"ytick_1\">\n     <g id=\"line2d_3\">\n      <defs>\n       <path d=\"M 0 0 \nL -3.5 0 \n\" id=\"md16fcbf5fb\" style=\"stroke:#000000;stroke-width:0.8;\"/>\n      </defs>\n      <g>\n       <use style=\"stroke:#000000;stroke-width:0.8;\" x=\"23.878125\" xlink:href=\"#md16fcbf5fb\" y=\"65.359219\"/>\n      </g>\n     </g>\n     <g id=\"text_3\">\n      <!-- 0 -->\n      <g transform=\"translate(14.798438 67.9225)rotate(-90)scale(0.1 -0.1)\">\n       <use xlink:href=\"#DejaVuSans-48\"/>\n      </g>\n     </g>\n    </g>\n    <g id=\"ytick_2\">\n     <g id=\"line2d_4\">\n      <g>\n       <use style=\"stroke:#000000;stroke-width:0.8;\" x=\"23.878125\" xlink:href=\"#md16fcbf5fb\" y=\"174.079219\"/>\n      </g>\n     </g>\n     <g id=\"text_4\">\n      <!-- 1 -->\n      <g transform=\"translate(14.798438 176.6425)rotate(-90)scale(0.1 -0.1)\">\n       <use xlink:href=\"#DejaVuSans-49\"/>\n      </g>\n     </g>\n    </g>\n   </g>\n   <g id=\"text_5\">\n    <!-- 1 -->\n    <g style=\"fill:#ffffff;\" transform=\"translate(87.656875 68.118594)scale(0.1 -0.1)\">\n     <use xlink:href=\"#DejaVuSans-49\"/>\n    </g>\n   </g>\n   <g id=\"text_6\">\n    <!-- -0.17 -->\n    <defs>\n     <path d=\"M 4.890625 31.390625 \nL 31.203125 31.390625 \nL 31.203125 23.390625 \nL 4.890625 23.390625 \nz\n\" id=\"DejaVuSans-45\"/>\n     <path d=\"M 10.6875 12.40625 \nL 21 12.40625 \nL 21 0 \nL 10.6875 0 \nz\n\" id=\"DejaVuSans-46\"/>\n     <path d=\"M 8.203125 72.90625 \nL 55.078125 72.90625 \nL 55.078125 68.703125 \nL 28.609375 0 \nL 18.3125 0 \nL 43.21875 64.59375 \nL 8.203125 64.59375 \nz\n\" id=\"DejaVuSans-55\"/>\n    </defs>\n    <g style=\"fill:#ffffff;\" transform=\"translate(211.821406 68.118594)scale(0.1 -0.1)\">\n     <use xlink:href=\"#DejaVuSans-45\"/>\n     <use x=\"36.083984\" xlink:href=\"#DejaVuSans-48\"/>\n     <use x=\"99.707031\" xlink:href=\"#DejaVuSans-46\"/>\n     <use x=\"131.494141\" xlink:href=\"#DejaVuSans-49\"/>\n     <use x=\"195.117188\" xlink:href=\"#DejaVuSans-55\"/>\n    </g>\n   </g>\n   <g id=\"text_7\">\n    <!-- -0.17 -->\n    <g style=\"fill:#ffffff;\" transform=\"translate(77.901406 176.838594)scale(0.1 -0.1)\">\n     <use xlink:href=\"#DejaVuSans-45\"/>\n     <use x=\"36.083984\" xlink:href=\"#DejaVuSans-48\"/>\n     <use x=\"99.707031\" xlink:href=\"#DejaVuSans-46\"/>\n     <use x=\"131.494141\" xlink:href=\"#DejaVuSans-49\"/>\n     <use x=\"195.117188\" xlink:href=\"#DejaVuSans-55\"/>\n    </g>\n   </g>\n   <g id=\"text_8\">\n    <!-- 1 -->\n    <g style=\"fill:#ffffff;\" transform=\"translate(221.576875 176.838594)scale(0.1 -0.1)\">\n     <use xlink:href=\"#DejaVuSans-49\"/>\n    </g>\n   </g>\n  </g>\n  <g id=\"axes_2\">\n   <g id=\"patch_3\">\n    <path clip-path=\"url(#p2d468ac977)\" d=\"M 308.458125 228.439219 \nL 308.458125 227.589844 \nL 308.458125 11.848594 \nL 308.458125 10.999219 \nL 319.330125 10.999219 \nL 319.330125 11.848594 \nL 319.330125 227.589844 \nL 319.330125 228.439219 \nz\n\" style=\"fill:#ffffff;stroke:#ffffff;stroke-linejoin:miter;stroke-width:0.01;\"/>\n   </g>\n   <image height=\"217\" id=\"image4f6815c543\" transform=\"scale(1 -1)translate(0 -217)\" width=\"11\" x=\"308\" xlink:href=\"data:image/png;base64,\niVBORw0KGgoAAAANSUhEUgAAAAsAAADZCAYAAAD2WsoCAAAABHNCSVQICAgIfAhkiAAAAUFJREFUaIHtmEFuxDAMA2XHKNCH7af6tX6sXSTxnnvzHAagi82ZEGSKpui0x9f3rMVv9NZWsTUAtkYjlQ+tMurZY6N3wgYBMzaWoUHaIGz0brUBuqjRyhs3aSPjpqChsMoZEmXaCBE/kaipjQiexQNqayJE/Kiyt9q8oYSstpAk4xnjAfwrhw0AFnOdaF/7WcGO2iDLO+XChnidd8B/L/4dtbFlCNzwgB/1XAaDh8cb/Pcbnz+/6+C6l//t1ZjzlirXJG1cl1SZgW/AxvQqe2x4E0RCupDqCHUE7AlpIp61cYfc7hDxs6Eg6pjXocrWTYFrQjOZG4w7ZYLsgMgYCRsZezBE/Mz5Pa9DPbM9qLUhRgjN+b0k40WIDW+3aLlE/F7YFkPgeVqVM+yLRYiMJ565JjTn94ayofhjXvQhKVeS6Aui8/mu2yf9AwAAAABJRU5ErkJggg==\" y=\"-11\"/>\n   <g id=\"matplotlib.axis_3\"/>\n   <g id=\"matplotlib.axis_4\">\n    <g id=\"ytick_3\">\n     <g id=\"line2d_5\">\n      <defs>\n       <path d=\"M 0 0 \nL 3.5 0 \n\" id=\"m1f8343df60\" style=\"stroke:#000000;stroke-width:0.8;\"/>\n      </defs>\n      <g>\n       <use style=\"stroke:#000000;stroke-width:0.8;\" x=\"319.330125\" xlink:href=\"#m1f8343df60\" y=\"197.642338\"/>\n      </g>\n     </g>\n     <g id=\"text_9\">\n      <!-- 0.0 -->\n      <g transform=\"translate(326.330125 201.441557)scale(0.1 -0.1)\">\n       <use xlink:href=\"#DejaVuSans-48\"/>\n       <use x=\"63.623047\" xlink:href=\"#DejaVuSans-46\"/>\n       <use x=\"95.410156\" xlink:href=\"#DejaVuSans-48\"/>\n      </g>\n     </g>\n    </g>\n    <g id=\"ytick_4\">\n     <g id=\"line2d_6\">\n      <g>\n       <use style=\"stroke:#000000;stroke-width:0.8;\" x=\"319.330125\" xlink:href=\"#m1f8343df60\" y=\"160.313714\"/>\n      </g>\n     </g>\n     <g id=\"text_10\">\n      <!-- 0.2 -->\n      <defs>\n       <path d=\"M 19.1875 8.296875 \nL 53.609375 8.296875 \nL 53.609375 0 \nL 7.328125 0 \nL 7.328125 8.296875 \nQ 12.9375 14.109375 22.625 23.890625 \nQ 32.328125 33.6875 34.8125 36.53125 \nQ 39.546875 41.84375 41.421875 45.53125 \nQ 43.3125 49.21875 43.3125 52.78125 \nQ 43.3125 58.59375 39.234375 62.25 \nQ 35.15625 65.921875 28.609375 65.921875 \nQ 23.96875 65.921875 18.8125 64.3125 \nQ 13.671875 62.703125 7.8125 59.421875 \nL 7.8125 69.390625 \nQ 13.765625 71.78125 18.9375 73 \nQ 24.125 74.21875 28.421875 74.21875 \nQ 39.75 74.21875 46.484375 68.546875 \nQ 53.21875 62.890625 53.21875 53.421875 \nQ 53.21875 48.921875 51.53125 44.890625 \nQ 49.859375 40.875 45.40625 35.40625 \nQ 44.1875 33.984375 37.640625 27.21875 \nQ 31.109375 20.453125 19.1875 8.296875 \nz\n\" id=\"DejaVuSans-50\"/>\n      </defs>\n      <g transform=\"translate(326.330125 164.112933)scale(0.1 -0.1)\">\n       <use xlink:href=\"#DejaVuSans-48\"/>\n       <use x=\"63.623047\" xlink:href=\"#DejaVuSans-46\"/>\n       <use x=\"95.410156\" xlink:href=\"#DejaVuSans-50\"/>\n      </g>\n     </g>\n    </g>\n    <g id=\"ytick_5\">\n     <g id=\"line2d_7\">\n      <g>\n       <use style=\"stroke:#000000;stroke-width:0.8;\" x=\"319.330125\" xlink:href=\"#m1f8343df60\" y=\"122.985091\"/>\n      </g>\n     </g>\n     <g id=\"text_11\">\n      <!-- 0.4 -->\n      <defs>\n       <path d=\"M 37.796875 64.3125 \nL 12.890625 25.390625 \nL 37.796875 25.390625 \nz\nM 35.203125 72.90625 \nL 47.609375 72.90625 \nL 47.609375 25.390625 \nL 58.015625 25.390625 \nL 58.015625 17.1875 \nL 47.609375 17.1875 \nL 47.609375 0 \nL 37.796875 0 \nL 37.796875 17.1875 \nL 4.890625 17.1875 \nL 4.890625 26.703125 \nz\n\" id=\"DejaVuSans-52\"/>\n      </defs>\n      <g transform=\"translate(326.330125 126.784309)scale(0.1 -0.1)\">\n       <use xlink:href=\"#DejaVuSans-48\"/>\n       <use x=\"63.623047\" xlink:href=\"#DejaVuSans-46\"/>\n       <use x=\"95.410156\" xlink:href=\"#DejaVuSans-52\"/>\n      </g>\n     </g>\n    </g>\n    <g id=\"ytick_6\">\n     <g id=\"line2d_8\">\n      <g>\n       <use style=\"stroke:#000000;stroke-width:0.8;\" x=\"319.330125\" xlink:href=\"#m1f8343df60\" y=\"85.656467\"/>\n      </g>\n     </g>\n     <g id=\"text_12\">\n      <!-- 0.6 -->\n      <defs>\n       <path d=\"M 33.015625 40.375 \nQ 26.375 40.375 22.484375 35.828125 \nQ 18.609375 31.296875 18.609375 23.390625 \nQ 18.609375 15.53125 22.484375 10.953125 \nQ 26.375 6.390625 33.015625 6.390625 \nQ 39.65625 6.390625 43.53125 10.953125 \nQ 47.40625 15.53125 47.40625 23.390625 \nQ 47.40625 31.296875 43.53125 35.828125 \nQ 39.65625 40.375 33.015625 40.375 \nz\nM 52.59375 71.296875 \nL 52.59375 62.3125 \nQ 48.875 64.0625 45.09375 64.984375 \nQ 41.3125 65.921875 37.59375 65.921875 \nQ 27.828125 65.921875 22.671875 59.328125 \nQ 17.53125 52.734375 16.796875 39.40625 \nQ 19.671875 43.65625 24.015625 45.921875 \nQ 28.375 48.1875 33.59375 48.1875 \nQ 44.578125 48.1875 50.953125 41.515625 \nQ 57.328125 34.859375 57.328125 23.390625 \nQ 57.328125 12.15625 50.6875 5.359375 \nQ 44.046875 -1.421875 33.015625 -1.421875 \nQ 20.359375 -1.421875 13.671875 8.265625 \nQ 6.984375 17.96875 6.984375 36.375 \nQ 6.984375 53.65625 15.1875 63.9375 \nQ 23.390625 74.21875 37.203125 74.21875 \nQ 40.921875 74.21875 44.703125 73.484375 \nQ 48.484375 72.75 52.59375 71.296875 \nz\n\" id=\"DejaVuSans-54\"/>\n      </defs>\n      <g transform=\"translate(326.330125 89.455685)scale(0.1 -0.1)\">\n       <use xlink:href=\"#DejaVuSans-48\"/>\n       <use x=\"63.623047\" xlink:href=\"#DejaVuSans-46\"/>\n       <use x=\"95.410156\" xlink:href=\"#DejaVuSans-54\"/>\n      </g>\n     </g>\n    </g>\n    <g id=\"ytick_7\">\n     <g id=\"line2d_9\">\n      <g>\n       <use style=\"stroke:#000000;stroke-width:0.8;\" x=\"319.330125\" xlink:href=\"#m1f8343df60\" y=\"48.327843\"/>\n      </g>\n     </g>\n     <g id=\"text_13\">\n      <!-- 0.8 -->\n      <defs>\n       <path d=\"M 31.78125 34.625 \nQ 24.75 34.625 20.71875 30.859375 \nQ 16.703125 27.09375 16.703125 20.515625 \nQ 16.703125 13.921875 20.71875 10.15625 \nQ 24.75 6.390625 31.78125 6.390625 \nQ 38.8125 6.390625 42.859375 10.171875 \nQ 46.921875 13.96875 46.921875 20.515625 \nQ 46.921875 27.09375 42.890625 30.859375 \nQ 38.875 34.625 31.78125 34.625 \nz\nM 21.921875 38.8125 \nQ 15.578125 40.375 12.03125 44.71875 \nQ 8.5 49.078125 8.5 55.328125 \nQ 8.5 64.0625 14.71875 69.140625 \nQ 20.953125 74.21875 31.78125 74.21875 \nQ 42.671875 74.21875 48.875 69.140625 \nQ 55.078125 64.0625 55.078125 55.328125 \nQ 55.078125 49.078125 51.53125 44.71875 \nQ 48 40.375 41.703125 38.8125 \nQ 48.828125 37.15625 52.796875 32.3125 \nQ 56.78125 27.484375 56.78125 20.515625 \nQ 56.78125 9.90625 50.3125 4.234375 \nQ 43.84375 -1.421875 31.78125 -1.421875 \nQ 19.734375 -1.421875 13.25 4.234375 \nQ 6.78125 9.90625 6.78125 20.515625 \nQ 6.78125 27.484375 10.78125 32.3125 \nQ 14.796875 37.15625 21.921875 38.8125 \nz\nM 18.3125 54.390625 \nQ 18.3125 48.734375 21.84375 45.5625 \nQ 25.390625 42.390625 31.78125 42.390625 \nQ 38.140625 42.390625 41.71875 45.5625 \nQ 45.3125 48.734375 45.3125 54.390625 \nQ 45.3125 60.0625 41.71875 63.234375 \nQ 38.140625 66.40625 31.78125 66.40625 \nQ 25.390625 66.40625 21.84375 63.234375 \nQ 18.3125 60.0625 18.3125 54.390625 \nz\n\" id=\"DejaVuSans-56\"/>\n      </defs>\n      <g transform=\"translate(326.330125 52.127061)scale(0.1 -0.1)\">\n       <use xlink:href=\"#DejaVuSans-48\"/>\n       <use x=\"63.623047\" xlink:href=\"#DejaVuSans-46\"/>\n       <use x=\"95.410156\" xlink:href=\"#DejaVuSans-56\"/>\n      </g>\n     </g>\n    </g>\n    <g id=\"ytick_8\">\n     <g id=\"line2d_10\">\n      <g>\n       <use style=\"stroke:#000000;stroke-width:0.8;\" x=\"319.330125\" xlink:href=\"#m1f8343df60\" y=\"10.999219\"/>\n      </g>\n     </g>\n     <g id=\"text_14\">\n      <!-- 1.0 -->\n      <g transform=\"translate(326.330125 14.798437)scale(0.1 -0.1)\">\n       <use xlink:href=\"#DejaVuSans-49\"/>\n       <use x=\"63.623047\" xlink:href=\"#DejaVuSans-46\"/>\n       <use x=\"95.410156\" xlink:href=\"#DejaVuSans-48\"/>\n      </g>\n     </g>\n    </g>\n   </g>\n   <g id=\"patch_4\">\n    <path d=\"M 308.458125 228.439219 \nL 308.458125 227.589844 \nL 308.458125 11.848594 \nL 308.458125 10.999219 \nL 319.330125 10.999219 \nL 319.330125 11.848594 \nL 319.330125 227.589844 \nL 319.330125 228.439219 \nz\n\" style=\"fill:none;\"/>\n   </g>\n  </g>\n </g>\n <defs>\n  <clipPath id=\"pcc874fab53\">\n   <rect height=\"217.44\" width=\"267.84\" x=\"23.878125\" y=\"10.999219\"/>\n  </clipPath>\n  <clipPath id=\"p2d468ac977\">\n   <rect height=\"217.44\" width=\"10.872\" x=\"308.458125\" y=\"10.999219\"/>\n  </clipPath>\n </defs>\n</svg>\n",
      "image/png": "[encoded data removed]"
     },
     "metadata": {
      "needs_background": "light"
     }
    }
   ],
   "source": [
    "sns.heatmap(np.corrcoef(Q1.values.T),cmap=cmap, annot=True)  #Rankingdifference\n",
    "plt.show()"
   ]
  },
  {
   "cell_type": "code",
   "execution_count": 18,
   "metadata": {},
   "outputs": [
    {
     "output_type": "execute_result",
     "data": {
      "text/plain": "[5, 4]"
     },
     "metadata": {},
     "execution_count": 18
    }
   ],
   "source": [
    "[len(Q1[x].unique()) for x in Q1.columns]      #Coverage"
   ]
  },
  {
   "source": [
    "## Query 2 results"
   ],
   "cell_type": "markdown",
   "metadata": {}
  },
  {
   "cell_type": "code",
   "execution_count": 38,
   "metadata": {},
   "outputs": [
    {
     "output_type": "execute_result",
     "data": {
      "text/plain": "            with disparity  without disparity\nquarantine              10                 10\nquarantine              10                 10\nquarantine              10                 10\nquarantine              10                 10\nquarantine              10                 10\nquarantine              10                 10\nquarantine              10                 10\nquarantine              10                 10\nquarantine               3                 10\nquarantine              -1                 10\nquarantine              10                  0\nquarantine              10                 10\nquarantine              -1                  0\nquarantine              10                 10\nquarantine              10                 10\nquarantine              -1                 10\nquarantine              10                 10\nquarantine              10                 10\nquarantine              10                 10\nquarantine              10                 10",
      "text/html": "<div>\n<style scoped>\n    .dataframe tbody tr th:only-of-type {\n        vertical-align: middle;\n    }\n\n    .dataframe tbody tr th {\n        vertical-align: top;\n    }\n\n    .dataframe thead th {\n        text-align: right;\n    }\n</style>\n<table border=\"1\" class=\"dataframe\">\n  <thead>\n    <tr style=\"text-align: right;\">\n      <th></th>\n      <th>with disparity</th>\n      <th>without disparity</th>\n    </tr>\n  </thead>\n  <tbody>\n    <tr>\n      <th>quarantine</th>\n      <td>10</td>\n      <td>10</td>\n    </tr>\n    <tr>\n      <th>quarantine</th>\n      <td>10</td>\n      <td>10</td>\n    </tr>\n    <tr>\n      <th>quarantine</th>\n      <td>10</td>\n      <td>10</td>\n    </tr>\n    <tr>\n      <th>quarantine</th>\n      <td>10</td>\n      <td>10</td>\n    </tr>\n    <tr>\n      <th>quarantine</th>\n      <td>10</td>\n      <td>10</td>\n    </tr>\n    <tr>\n      <th>quarantine</th>\n      <td>10</td>\n      <td>10</td>\n    </tr>\n    <tr>\n      <th>quarantine</th>\n      <td>10</td>\n      <td>10</td>\n    </tr>\n    <tr>\n      <th>quarantine</th>\n      <td>10</td>\n      <td>10</td>\n    </tr>\n    <tr>\n      <th>quarantine</th>\n      <td>3</td>\n      <td>10</td>\n    </tr>\n    <tr>\n      <th>quarantine</th>\n      <td>-1</td>\n      <td>10</td>\n    </tr>\n    <tr>\n      <th>quarantine</th>\n      <td>10</td>\n      <td>0</td>\n    </tr>\n    <tr>\n      <th>quarantine</th>\n      <td>10</td>\n      <td>10</td>\n    </tr>\n    <tr>\n      <th>quarantine</th>\n      <td>-1</td>\n      <td>0</td>\n    </tr>\n    <tr>\n      <th>quarantine</th>\n      <td>10</td>\n      <td>10</td>\n    </tr>\n    <tr>\n      <th>quarantine</th>\n      <td>10</td>\n      <td>10</td>\n    </tr>\n    <tr>\n      <th>quarantine</th>\n      <td>-1</td>\n      <td>10</td>\n    </tr>\n    <tr>\n      <th>quarantine</th>\n      <td>10</td>\n      <td>10</td>\n    </tr>\n    <tr>\n      <th>quarantine</th>\n      <td>10</td>\n      <td>10</td>\n    </tr>\n    <tr>\n      <th>quarantine</th>\n      <td>10</td>\n      <td>10</td>\n    </tr>\n    <tr>\n      <th>quarantine</th>\n      <td>10</td>\n      <td>10</td>\n    </tr>\n  </tbody>\n</table>\n</div>"
     },
     "metadata": {},
     "execution_count": 38
    }
   ],
   "source": [
    "Q2"
   ]
  },
  {
   "cell_type": "code",
   "execution_count": 35,
   "metadata": {},
   "outputs": [
    {
     "output_type": "display_data",
     "data": {
      "text/plain": "<Figure size 432x288 with 2 Axes>",
      "image/svg+xml": "<?xml version=\"1.0\" encoding=\"utf-8\" standalone=\"no\"?>\n<!DOCTYPE svg PUBLIC \"-//W3C//DTD SVG 1.1//EN\"\n  \"http://www.w3.org/Graphics/SVG/1.1/DTD/svg11.dtd\">\n<!-- Created with matplotlib (https://matplotlib.org/) -->\n<svg height=\"252.317344pt\" version=\"1.1\" viewBox=\"0 0 349.43325 252.317344\" width=\"349.43325pt\" xmlns=\"http://www.w3.org/2000/svg\" xmlns:xlink=\"http://www.w3.org/1999/xlink\">\n <defs>\n  <style type=\"text/css\">\n*{stroke-linecap:butt;stroke-linejoin:round;}\n  </style>\n </defs>\n <g id=\"figure_1\">\n  <g id=\"patch_1\">\n   <path d=\"M -0 252.317344 \nL 349.43325 252.317344 \nL 349.43325 0 \nL -0 0 \nz\n\" style=\"fill:none;\"/>\n  </g>\n  <g id=\"axes_1\">\n   <g id=\"patch_2\">\n    <path d=\"M 23.878125 228.439219 \nL 291.718125 228.439219 \nL 291.718125 10.999219 \nL 23.878125 10.999219 \nz\n\" style=\"fill:#ffffff;\"/>\n   </g>\n   <g id=\"QuadMesh_1\">\n    <path clip-path=\"url(#pae68dd91ed)\" d=\"M 23.878125 10.999219 \nL 157.798125 10.999219 \nL 157.798125 119.719219 \nL 23.878125 119.719219 \nL 23.878125 10.999219 \n\" style=\"fill:#da3b46;\"/>\n    <path clip-path=\"url(#pae68dd91ed)\" d=\"M 157.798125 10.999219 \nL 291.718125 10.999219 \nL 291.718125 119.719219 \nL 157.798125 119.719219 \nL 157.798125 10.999219 \n\" style=\"fill:#4479bb;\"/>\n    <path clip-path=\"url(#pae68dd91ed)\" d=\"M 23.878125 119.719219 \nL 157.798125 119.719219 \nL 157.798125 228.439219 \nL 23.878125 228.439219 \nL 23.878125 119.719219 \n\" style=\"fill:#4479bb;\"/>\n    <path clip-path=\"url(#pae68dd91ed)\" d=\"M 157.798125 119.719219 \nL 291.718125 119.719219 \nL 291.718125 228.439219 \nL 157.798125 228.439219 \nL 157.798125 119.719219 \n\" style=\"fill:#da3b46;\"/>\n   </g>\n   <g id=\"matplotlib.axis_1\">\n    <g id=\"xtick_1\">\n     <g id=\"line2d_1\">\n      <defs>\n       <path d=\"M 0 0 \nL 0 3.5 \n\" id=\"m390c5290ae\" style=\"stroke:#000000;stroke-width:0.8;\"/>\n      </defs>\n      <g>\n       <use style=\"stroke:#000000;stroke-width:0.8;\" x=\"90.838125\" xlink:href=\"#m390c5290ae\" y=\"228.439219\"/>\n      </g>\n     </g>\n     <g id=\"text_1\">\n      <!-- 0 -->\n      <defs>\n       <path d=\"M 31.78125 66.40625 \nQ 24.171875 66.40625 20.328125 58.90625 \nQ 16.5 51.421875 16.5 36.375 \nQ 16.5 21.390625 20.328125 13.890625 \nQ 24.171875 6.390625 31.78125 6.390625 \nQ 39.453125 6.390625 43.28125 13.890625 \nQ 47.125 21.390625 47.125 36.375 \nQ 47.125 51.421875 43.28125 58.90625 \nQ 39.453125 66.40625 31.78125 66.40625 \nz\nM 31.78125 74.21875 \nQ 44.046875 74.21875 50.515625 64.515625 \nQ 56.984375 54.828125 56.984375 36.375 \nQ 56.984375 17.96875 50.515625 8.265625 \nQ 44.046875 -1.421875 31.78125 -1.421875 \nQ 19.53125 -1.421875 13.0625 8.265625 \nQ 6.59375 17.96875 6.59375 36.375 \nQ 6.59375 54.828125 13.0625 64.515625 \nQ 19.53125 74.21875 31.78125 74.21875 \nz\n\" id=\"DejaVuSans-48\"/>\n      </defs>\n      <g transform=\"translate(87.656875 243.037656)scale(0.1 -0.1)\">\n       <use xlink:href=\"#DejaVuSans-48\"/>\n      </g>\n     </g>\n    </g>\n    <g id=\"xtick_2\">\n     <g id=\"line2d_2\">\n      <g>\n       <use style=\"stroke:#000000;stroke-width:0.8;\" x=\"224.758125\" xlink:href=\"#m390c5290ae\" y=\"228.439219\"/>\n      </g>\n     </g>\n     <g id=\"text_2\">\n      <!-- 1 -->\n      <defs>\n       <path d=\"M 12.40625 8.296875 \nL 28.515625 8.296875 \nL 28.515625 63.921875 \nL 10.984375 60.40625 \nL 10.984375 69.390625 \nL 28.421875 72.90625 \nL 38.28125 72.90625 \nL 38.28125 8.296875 \nL 54.390625 8.296875 \nL 54.390625 0 \nL 12.40625 0 \nz\n\" id=\"DejaVuSans-49\"/>\n      </defs>\n      <g transform=\"translate(221.576875 243.037656)scale(0.1 -0.1)\">\n       <use xlink:href=\"#DejaVuSans-49\"/>\n      </g>\n     </g>\n    </g>\n   </g>\n   <g id=\"matplotlib.axis_2\">\n    <g id=\"ytick_1\">\n     <g id=\"line2d_3\">\n      <defs>\n       <path d=\"M 0 0 \nL -3.5 0 \n\" id=\"m73a690c834\" style=\"stroke:#000000;stroke-width:0.8;\"/>\n      </defs>\n      <g>\n       <use style=\"stroke:#000000;stroke-width:0.8;\" x=\"23.878125\" xlink:href=\"#m73a690c834\" y=\"65.359219\"/>\n      </g>\n     </g>\n     <g id=\"text_3\">\n      <!-- 0 -->\n      <g transform=\"translate(14.798438 67.9225)rotate(-90)scale(0.1 -0.1)\">\n       <use xlink:href=\"#DejaVuSans-48\"/>\n      </g>\n     </g>\n    </g>\n    <g id=\"ytick_2\">\n     <g id=\"line2d_4\">\n      <g>\n       <use style=\"stroke:#000000;stroke-width:0.8;\" x=\"23.878125\" xlink:href=\"#m73a690c834\" y=\"174.079219\"/>\n      </g>\n     </g>\n     <g id=\"text_4\">\n      <!-- 1 -->\n      <g transform=\"translate(14.798438 176.6425)rotate(-90)scale(0.1 -0.1)\">\n       <use xlink:href=\"#DejaVuSans-49\"/>\n      </g>\n     </g>\n    </g>\n   </g>\n   <g id=\"text_5\">\n    <!-- 1 -->\n    <g style=\"fill:#ffffff;\" transform=\"translate(87.656875 68.118594)scale(0.1 -0.1)\">\n     <use xlink:href=\"#DejaVuSans-49\"/>\n    </g>\n   </g>\n   <g id=\"text_6\">\n    <!-- 0.29 -->\n    <defs>\n     <path d=\"M 10.6875 12.40625 \nL 21 12.40625 \nL 21 0 \nL 10.6875 0 \nz\n\" id=\"DejaVuSans-46\"/>\n     <path d=\"M 19.1875 8.296875 \nL 53.609375 8.296875 \nL 53.609375 0 \nL 7.328125 0 \nL 7.328125 8.296875 \nQ 12.9375 14.109375 22.625 23.890625 \nQ 32.328125 33.6875 34.8125 36.53125 \nQ 39.546875 41.84375 41.421875 45.53125 \nQ 43.3125 49.21875 43.3125 52.78125 \nQ 43.3125 58.59375 39.234375 62.25 \nQ 35.15625 65.921875 28.609375 65.921875 \nQ 23.96875 65.921875 18.8125 64.3125 \nQ 13.671875 62.703125 7.8125 59.421875 \nL 7.8125 69.390625 \nQ 13.765625 71.78125 18.9375 73 \nQ 24.125 74.21875 28.421875 74.21875 \nQ 39.75 74.21875 46.484375 68.546875 \nQ 53.21875 62.890625 53.21875 53.421875 \nQ 53.21875 48.921875 51.53125 44.890625 \nQ 49.859375 40.875 45.40625 35.40625 \nQ 44.1875 33.984375 37.640625 27.21875 \nQ 31.109375 20.453125 19.1875 8.296875 \nz\n\" id=\"DejaVuSans-50\"/>\n     <path d=\"M 10.984375 1.515625 \nL 10.984375 10.5 \nQ 14.703125 8.734375 18.5 7.8125 \nQ 22.3125 6.890625 25.984375 6.890625 \nQ 35.75 6.890625 40.890625 13.453125 \nQ 46.046875 20.015625 46.78125 33.40625 \nQ 43.953125 29.203125 39.59375 26.953125 \nQ 35.25 24.703125 29.984375 24.703125 \nQ 19.046875 24.703125 12.671875 31.3125 \nQ 6.296875 37.9375 6.296875 49.421875 \nQ 6.296875 60.640625 12.9375 67.421875 \nQ 19.578125 74.21875 30.609375 74.21875 \nQ 43.265625 74.21875 49.921875 64.515625 \nQ 56.59375 54.828125 56.59375 36.375 \nQ 56.59375 19.140625 48.40625 8.859375 \nQ 40.234375 -1.421875 26.421875 -1.421875 \nQ 22.703125 -1.421875 18.890625 -0.6875 \nQ 15.09375 0.046875 10.984375 1.515625 \nz\nM 30.609375 32.421875 \nQ 37.25 32.421875 41.125 36.953125 \nQ 45.015625 41.5 45.015625 49.421875 \nQ 45.015625 57.28125 41.125 61.84375 \nQ 37.25 66.40625 30.609375 66.40625 \nQ 23.96875 66.40625 20.09375 61.84375 \nQ 16.21875 57.28125 16.21875 49.421875 \nQ 16.21875 41.5 20.09375 36.953125 \nQ 23.96875 32.421875 30.609375 32.421875 \nz\n\" id=\"DejaVuSans-57\"/>\n    </defs>\n    <g style=\"fill:#ffffff;\" transform=\"translate(213.625313 68.118594)scale(0.1 -0.1)\">\n     <use xlink:href=\"#DejaVuSans-48\"/>\n     <use x=\"63.623047\" xlink:href=\"#DejaVuSans-46\"/>\n     <use x=\"95.410156\" xlink:href=\"#DejaVuSans-50\"/>\n     <use x=\"159.033203\" xlink:href=\"#DejaVuSans-57\"/>\n    </g>\n   </g>\n   <g id=\"text_7\">\n    <!-- 0.29 -->\n    <g style=\"fill:#ffffff;\" transform=\"translate(79.705313 176.838594)scale(0.1 -0.1)\">\n     <use xlink:href=\"#DejaVuSans-48\"/>\n     <use x=\"63.623047\" xlink:href=\"#DejaVuSans-46\"/>\n     <use x=\"95.410156\" xlink:href=\"#DejaVuSans-50\"/>\n     <use x=\"159.033203\" xlink:href=\"#DejaVuSans-57\"/>\n    </g>\n   </g>\n   <g id=\"text_8\">\n    <!-- 1 -->\n    <g style=\"fill:#ffffff;\" transform=\"translate(221.576875 176.838594)scale(0.1 -0.1)\">\n     <use xlink:href=\"#DejaVuSans-49\"/>\n    </g>\n   </g>\n  </g>\n  <g id=\"axes_2\">\n   <g id=\"patch_3\">\n    <path clip-path=\"url(#p4f1cd241ff)\" d=\"M 308.458125 228.439219 \nL 308.458125 227.589844 \nL 308.458125 11.848594 \nL 308.458125 10.999219 \nL 319.330125 10.999219 \nL 319.330125 11.848594 \nL 319.330125 227.589844 \nL 319.330125 228.439219 \nz\n\" style=\"fill:#ffffff;stroke:#ffffff;stroke-linejoin:miter;stroke-width:0.01;\"/>\n   </g>\n   <image height=\"217\" id=\"image49873ed8c7\" transform=\"scale(1 -1)translate(0 -217)\" width=\"11\" x=\"308\" xlink:href=\"data:image/png;base64,\niVBORw0KGgoAAAANSUhEUgAAAAsAAADZCAYAAAD2WsoCAAAABHNCSVQICAgIfAhkiAAAAUFJREFUaIHtmEFuxDAMA2XHKNCH7af6tX6sXSTxnnvzHAagi82ZEGSKpui0x9f3rMVv9NZWsTUAtkYjlQ+tMurZY6N3wgYBMzaWoUHaIGz0brUBuqjRyhs3aSPjpqChsMoZEmXaCBE/kaipjQiexQNqayJE/Kiyt9q8oYSstpAk4xnjAfwrhw0AFnOdaF/7WcGO2iDLO+XChnidd8B/L/4dtbFlCNzwgB/1XAaDh8cb/Pcbnz+/6+C6l//t1ZjzlirXJG1cl1SZgW/AxvQqe2x4E0RCupDqCHUE7AlpIp61cYfc7hDxs6Eg6pjXocrWTYFrQjOZG4w7ZYLsgMgYCRsZezBE/Mz5Pa9DPbM9qLUhRgjN+b0k40WIDW+3aLlE/F7YFkPgeVqVM+yLRYiMJ565JjTn94ayofhjXvQhKVeS6Aui8/mu2yf9AwAAAABJRU5ErkJggg==\" y=\"-11\"/>\n   <g id=\"matplotlib.axis_3\"/>\n   <g id=\"matplotlib.axis_4\">\n    <g id=\"ytick_3\">\n     <g id=\"line2d_5\">\n      <defs>\n       <path d=\"M 0 0 \nL 3.5 0 \n\" id=\"m3db19e9a31\" style=\"stroke:#000000;stroke-width:0.8;\"/>\n      </defs>\n      <g>\n       <use style=\"stroke:#000000;stroke-width:0.8;\" x=\"319.330125\" xlink:href=\"#m3db19e9a31\" y=\"224.279364\"/>\n      </g>\n     </g>\n     <g id=\"text_9\">\n      <!-- 0.3 -->\n      <defs>\n       <path d=\"M 40.578125 39.3125 \nQ 47.65625 37.796875 51.625 33 \nQ 55.609375 28.21875 55.609375 21.1875 \nQ 55.609375 10.40625 48.1875 4.484375 \nQ 40.765625 -1.421875 27.09375 -1.421875 \nQ 22.515625 -1.421875 17.65625 -0.515625 \nQ 12.796875 0.390625 7.625 2.203125 \nL 7.625 11.71875 \nQ 11.71875 9.328125 16.59375 8.109375 \nQ 21.484375 6.890625 26.8125 6.890625 \nQ 36.078125 6.890625 40.9375 10.546875 \nQ 45.796875 14.203125 45.796875 21.1875 \nQ 45.796875 27.640625 41.28125 31.265625 \nQ 36.765625 34.90625 28.71875 34.90625 \nL 20.21875 34.90625 \nL 20.21875 43.015625 \nL 29.109375 43.015625 \nQ 36.375 43.015625 40.234375 45.921875 \nQ 44.09375 48.828125 44.09375 54.296875 \nQ 44.09375 59.90625 40.109375 62.90625 \nQ 36.140625 65.921875 28.71875 65.921875 \nQ 24.65625 65.921875 20.015625 65.03125 \nQ 15.375 64.15625 9.8125 62.3125 \nL 9.8125 71.09375 \nQ 15.4375 72.65625 20.34375 73.4375 \nQ 25.25 74.21875 29.59375 74.21875 \nQ 40.828125 74.21875 47.359375 69.109375 \nQ 53.90625 64.015625 53.90625 55.328125 \nQ 53.90625 49.265625 50.4375 45.09375 \nQ 46.96875 40.921875 40.578125 39.3125 \nz\n\" id=\"DejaVuSans-51\"/>\n      </defs>\n      <g transform=\"translate(326.330125 228.078582)scale(0.1 -0.1)\">\n       <use xlink:href=\"#DejaVuSans-48\"/>\n       <use x=\"63.623047\" xlink:href=\"#DejaVuSans-46\"/>\n       <use x=\"95.410156\" xlink:href=\"#DejaVuSans-51\"/>\n      </g>\n     </g>\n    </g>\n    <g id=\"ytick_4\">\n     <g id=\"line2d_6\">\n      <g>\n       <use style=\"stroke:#000000;stroke-width:0.8;\" x=\"319.330125\" xlink:href=\"#m3db19e9a31\" y=\"193.810771\"/>\n      </g>\n     </g>\n     <g id=\"text_10\">\n      <!-- 0.4 -->\n      <defs>\n       <path d=\"M 37.796875 64.3125 \nL 12.890625 25.390625 \nL 37.796875 25.390625 \nz\nM 35.203125 72.90625 \nL 47.609375 72.90625 \nL 47.609375 25.390625 \nL 58.015625 25.390625 \nL 58.015625 17.1875 \nL 47.609375 17.1875 \nL 47.609375 0 \nL 37.796875 0 \nL 37.796875 17.1875 \nL 4.890625 17.1875 \nL 4.890625 26.703125 \nz\n\" id=\"DejaVuSans-52\"/>\n      </defs>\n      <g transform=\"translate(326.330125 197.60999)scale(0.1 -0.1)\">\n       <use xlink:href=\"#DejaVuSans-48\"/>\n       <use x=\"63.623047\" xlink:href=\"#DejaVuSans-46\"/>\n       <use x=\"95.410156\" xlink:href=\"#DejaVuSans-52\"/>\n      </g>\n     </g>\n    </g>\n    <g id=\"ytick_5\">\n     <g id=\"line2d_7\">\n      <g>\n       <use style=\"stroke:#000000;stroke-width:0.8;\" x=\"319.330125\" xlink:href=\"#m3db19e9a31\" y=\"163.342179\"/>\n      </g>\n     </g>\n     <g id=\"text_11\">\n      <!-- 0.5 -->\n      <defs>\n       <path d=\"M 10.796875 72.90625 \nL 49.515625 72.90625 \nL 49.515625 64.59375 \nL 19.828125 64.59375 \nL 19.828125 46.734375 \nQ 21.96875 47.46875 24.109375 47.828125 \nQ 26.265625 48.1875 28.421875 48.1875 \nQ 40.625 48.1875 47.75 41.5 \nQ 54.890625 34.8125 54.890625 23.390625 \nQ 54.890625 11.625 47.5625 5.09375 \nQ 40.234375 -1.421875 26.90625 -1.421875 \nQ 22.3125 -1.421875 17.546875 -0.640625 \nQ 12.796875 0.140625 7.71875 1.703125 \nL 7.71875 11.625 \nQ 12.109375 9.234375 16.796875 8.0625 \nQ 21.484375 6.890625 26.703125 6.890625 \nQ 35.15625 6.890625 40.078125 11.328125 \nQ 45.015625 15.765625 45.015625 23.390625 \nQ 45.015625 31 40.078125 35.4375 \nQ 35.15625 39.890625 26.703125 39.890625 \nQ 22.75 39.890625 18.8125 39.015625 \nQ 14.890625 38.140625 10.796875 36.28125 \nz\n\" id=\"DejaVuSans-53\"/>\n      </defs>\n      <g transform=\"translate(326.330125 167.141398)scale(0.1 -0.1)\">\n       <use xlink:href=\"#DejaVuSans-48\"/>\n       <use x=\"63.623047\" xlink:href=\"#DejaVuSans-46\"/>\n       <use x=\"95.410156\" xlink:href=\"#DejaVuSans-53\"/>\n      </g>\n     </g>\n    </g>\n    <g id=\"ytick_6\">\n     <g id=\"line2d_8\">\n      <g>\n       <use style=\"stroke:#000000;stroke-width:0.8;\" x=\"319.330125\" xlink:href=\"#m3db19e9a31\" y=\"132.873587\"/>\n      </g>\n     </g>\n     <g id=\"text_12\">\n      <!-- 0.6 -->\n      <defs>\n       <path d=\"M 33.015625 40.375 \nQ 26.375 40.375 22.484375 35.828125 \nQ 18.609375 31.296875 18.609375 23.390625 \nQ 18.609375 15.53125 22.484375 10.953125 \nQ 26.375 6.390625 33.015625 6.390625 \nQ 39.65625 6.390625 43.53125 10.953125 \nQ 47.40625 15.53125 47.40625 23.390625 \nQ 47.40625 31.296875 43.53125 35.828125 \nQ 39.65625 40.375 33.015625 40.375 \nz\nM 52.59375 71.296875 \nL 52.59375 62.3125 \nQ 48.875 64.0625 45.09375 64.984375 \nQ 41.3125 65.921875 37.59375 65.921875 \nQ 27.828125 65.921875 22.671875 59.328125 \nQ 17.53125 52.734375 16.796875 39.40625 \nQ 19.671875 43.65625 24.015625 45.921875 \nQ 28.375 48.1875 33.59375 48.1875 \nQ 44.578125 48.1875 50.953125 41.515625 \nQ 57.328125 34.859375 57.328125 23.390625 \nQ 57.328125 12.15625 50.6875 5.359375 \nQ 44.046875 -1.421875 33.015625 -1.421875 \nQ 20.359375 -1.421875 13.671875 8.265625 \nQ 6.984375 17.96875 6.984375 36.375 \nQ 6.984375 53.65625 15.1875 63.9375 \nQ 23.390625 74.21875 37.203125 74.21875 \nQ 40.921875 74.21875 44.703125 73.484375 \nQ 48.484375 72.75 52.59375 71.296875 \nz\n\" id=\"DejaVuSans-54\"/>\n      </defs>\n      <g transform=\"translate(326.330125 136.672806)scale(0.1 -0.1)\">\n       <use xlink:href=\"#DejaVuSans-48\"/>\n       <use x=\"63.623047\" xlink:href=\"#DejaVuSans-46\"/>\n       <use x=\"95.410156\" xlink:href=\"#DejaVuSans-54\"/>\n      </g>\n     </g>\n    </g>\n    <g id=\"ytick_7\">\n     <g id=\"line2d_9\">\n      <g>\n       <use style=\"stroke:#000000;stroke-width:0.8;\" x=\"319.330125\" xlink:href=\"#m3db19e9a31\" y=\"102.404995\"/>\n      </g>\n     </g>\n     <g id=\"text_13\">\n      <!-- 0.7 -->\n      <defs>\n       <path d=\"M 8.203125 72.90625 \nL 55.078125 72.90625 \nL 55.078125 68.703125 \nL 28.609375 0 \nL 18.3125 0 \nL 43.21875 64.59375 \nL 8.203125 64.59375 \nz\n\" id=\"DejaVuSans-55\"/>\n      </defs>\n      <g transform=\"translate(326.330125 106.204214)scale(0.1 -0.1)\">\n       <use xlink:href=\"#DejaVuSans-48\"/>\n       <use x=\"63.623047\" xlink:href=\"#DejaVuSans-46\"/>\n       <use x=\"95.410156\" xlink:href=\"#DejaVuSans-55\"/>\n      </g>\n     </g>\n    </g>\n    <g id=\"ytick_8\">\n     <g id=\"line2d_10\">\n      <g>\n       <use style=\"stroke:#000000;stroke-width:0.8;\" x=\"319.330125\" xlink:href=\"#m3db19e9a31\" y=\"71.936403\"/>\n      </g>\n     </g>\n     <g id=\"text_14\">\n      <!-- 0.8 -->\n      <defs>\n       <path d=\"M 31.78125 34.625 \nQ 24.75 34.625 20.71875 30.859375 \nQ 16.703125 27.09375 16.703125 20.515625 \nQ 16.703125 13.921875 20.71875 10.15625 \nQ 24.75 6.390625 31.78125 6.390625 \nQ 38.8125 6.390625 42.859375 10.171875 \nQ 46.921875 13.96875 46.921875 20.515625 \nQ 46.921875 27.09375 42.890625 30.859375 \nQ 38.875 34.625 31.78125 34.625 \nz\nM 21.921875 38.8125 \nQ 15.578125 40.375 12.03125 44.71875 \nQ 8.5 49.078125 8.5 55.328125 \nQ 8.5 64.0625 14.71875 69.140625 \nQ 20.953125 74.21875 31.78125 74.21875 \nQ 42.671875 74.21875 48.875 69.140625 \nQ 55.078125 64.0625 55.078125 55.328125 \nQ 55.078125 49.078125 51.53125 44.71875 \nQ 48 40.375 41.703125 38.8125 \nQ 48.828125 37.15625 52.796875 32.3125 \nQ 56.78125 27.484375 56.78125 20.515625 \nQ 56.78125 9.90625 50.3125 4.234375 \nQ 43.84375 -1.421875 31.78125 -1.421875 \nQ 19.734375 -1.421875 13.25 4.234375 \nQ 6.78125 9.90625 6.78125 20.515625 \nQ 6.78125 27.484375 10.78125 32.3125 \nQ 14.796875 37.15625 21.921875 38.8125 \nz\nM 18.3125 54.390625 \nQ 18.3125 48.734375 21.84375 45.5625 \nQ 25.390625 42.390625 31.78125 42.390625 \nQ 38.140625 42.390625 41.71875 45.5625 \nQ 45.3125 48.734375 45.3125 54.390625 \nQ 45.3125 60.0625 41.71875 63.234375 \nQ 38.140625 66.40625 31.78125 66.40625 \nQ 25.390625 66.40625 21.84375 63.234375 \nQ 18.3125 60.0625 18.3125 54.390625 \nz\n\" id=\"DejaVuSans-56\"/>\n      </defs>\n      <g transform=\"translate(326.330125 75.735622)scale(0.1 -0.1)\">\n       <use xlink:href=\"#DejaVuSans-48\"/>\n       <use x=\"63.623047\" xlink:href=\"#DejaVuSans-46\"/>\n       <use x=\"95.410156\" xlink:href=\"#DejaVuSans-56\"/>\n      </g>\n     </g>\n    </g>\n    <g id=\"ytick_9\">\n     <g id=\"line2d_11\">\n      <g>\n       <use style=\"stroke:#000000;stroke-width:0.8;\" x=\"319.330125\" xlink:href=\"#m3db19e9a31\" y=\"41.467811\"/>\n      </g>\n     </g>\n     <g id=\"text_15\">\n      <!-- 0.9 -->\n      <g transform=\"translate(326.330125 45.26703)scale(0.1 -0.1)\">\n       <use xlink:href=\"#DejaVuSans-48\"/>\n       <use x=\"63.623047\" xlink:href=\"#DejaVuSans-46\"/>\n       <use x=\"95.410156\" xlink:href=\"#DejaVuSans-57\"/>\n      </g>\n     </g>\n    </g>\n    <g id=\"ytick_10\">\n     <g id=\"line2d_12\">\n      <g>\n       <use style=\"stroke:#000000;stroke-width:0.8;\" x=\"319.330125\" xlink:href=\"#m3db19e9a31\" y=\"10.999219\"/>\n      </g>\n     </g>\n     <g id=\"text_16\">\n      <!-- 1.0 -->\n      <g transform=\"translate(326.330125 14.798437)scale(0.1 -0.1)\">\n       <use xlink:href=\"#DejaVuSans-49\"/>\n       <use x=\"63.623047\" xlink:href=\"#DejaVuSans-46\"/>\n       <use x=\"95.410156\" xlink:href=\"#DejaVuSans-48\"/>\n      </g>\n     </g>\n    </g>\n   </g>\n   <g id=\"patch_4\">\n    <path d=\"M 308.458125 228.439219 \nL 308.458125 227.589844 \nL 308.458125 11.848594 \nL 308.458125 10.999219 \nL 319.330125 10.999219 \nL 319.330125 11.848594 \nL 319.330125 227.589844 \nL 319.330125 228.439219 \nz\n\" style=\"fill:none;\"/>\n   </g>\n  </g>\n </g>\n <defs>\n  <clipPath id=\"pae68dd91ed\">\n   <rect height=\"217.44\" width=\"267.84\" x=\"23.878125\" y=\"10.999219\"/>\n  </clipPath>\n  <clipPath id=\"p4f1cd241ff\">\n   <rect height=\"217.44\" width=\"10.872\" x=\"308.458125\" y=\"10.999219\"/>\n  </clipPath>\n </defs>\n</svg>\n",
      "image/png": "[encoded data removed]"
     },
     "metadata": {
      "needs_background": "light"
     }
    }
   ],
   "source": [
    "sns.heatmap(np.corrcoef(Q2.values.T),cmap=cmap, annot=True)  #Rankingdifference\n",
    "plt.show()"
   ]
  },
  {
   "cell_type": "code",
   "execution_count": 21,
   "metadata": {},
   "outputs": [
    {
     "output_type": "execute_result",
     "data": {
      "text/plain": "[3, 2]"
     },
     "metadata": {},
     "execution_count": 21
    }
   ],
   "source": [
    "[ len(Q2[x].unique()) for x in Q2.columns]      #Coverage"
   ]
  },
  {
   "source": [
    "## Query 3 results"
   ],
   "cell_type": "markdown",
   "metadata": {}
  },
  {
   "cell_type": "code",
   "execution_count": 39,
   "metadata": {},
   "outputs": [
    {
     "output_type": "execute_result",
     "data": {
      "text/plain": "                with disparity  without disparity\ncovid lockdown              -1                  0\ncovid lockdown              11                  0\ncovid lockdown               6                  0\ncovid lockdown               8                  0\ncovid lockdown              -1                 -1\ncovid lockdown              -1                  0\ncovid lockdown              -1                  0\ncovid lockdown               8                  0\ncovid lockdown               8                  0\ncovid lockdown               8                  0\ncovid lockdown              -1                  0\ncovid lockdown               0                  0\ncovid lockdown               8                  0\ncovid lockdown               0                  0\ncovid lockdown               3                  0\ncovid lockdown               3                  0\ncovid lockdown              -1                  0\ncovid lockdown              -1                  0\ncovid lockdown               0                  0\ncovid lockdown              14                  0",
      "text/html": "<div>\n<style scoped>\n    .dataframe tbody tr th:only-of-type {\n        vertical-align: middle;\n    }\n\n    .dataframe tbody tr th {\n        vertical-align: top;\n    }\n\n    .dataframe thead th {\n        text-align: right;\n    }\n</style>\n<table border=\"1\" class=\"dataframe\">\n  <thead>\n    <tr style=\"text-align: right;\">\n      <th></th>\n      <th>with disparity</th>\n      <th>without disparity</th>\n    </tr>\n  </thead>\n  <tbody>\n    <tr>\n      <th>covid lockdown</th>\n      <td>-1</td>\n      <td>0</td>\n    </tr>\n    <tr>\n      <th>covid lockdown</th>\n      <td>11</td>\n      <td>0</td>\n    </tr>\n    <tr>\n      <th>covid lockdown</th>\n      <td>6</td>\n      <td>0</td>\n    </tr>\n    <tr>\n      <th>covid lockdown</th>\n      <td>8</td>\n      <td>0</td>\n    </tr>\n    <tr>\n      <th>covid lockdown</th>\n      <td>-1</td>\n      <td>-1</td>\n    </tr>\n    <tr>\n      <th>covid lockdown</th>\n      <td>-1</td>\n      <td>0</td>\n    </tr>\n    <tr>\n      <th>covid lockdown</th>\n      <td>-1</td>\n      <td>0</td>\n    </tr>\n    <tr>\n      <th>covid lockdown</th>\n      <td>8</td>\n      <td>0</td>\n    </tr>\n    <tr>\n      <th>covid lockdown</th>\n      <td>8</td>\n      <td>0</td>\n    </tr>\n    <tr>\n      <th>covid lockdown</th>\n      <td>8</td>\n      <td>0</td>\n    </tr>\n    <tr>\n      <th>covid lockdown</th>\n      <td>-1</td>\n      <td>0</td>\n    </tr>\n    <tr>\n      <th>covid lockdown</th>\n      <td>0</td>\n      <td>0</td>\n    </tr>\n    <tr>\n      <th>covid lockdown</th>\n      <td>8</td>\n      <td>0</td>\n    </tr>\n    <tr>\n      <th>covid lockdown</th>\n      <td>0</td>\n      <td>0</td>\n    </tr>\n    <tr>\n      <th>covid lockdown</th>\n      <td>3</td>\n      <td>0</td>\n    </tr>\n    <tr>\n      <th>covid lockdown</th>\n      <td>3</td>\n      <td>0</td>\n    </tr>\n    <tr>\n      <th>covid lockdown</th>\n      <td>-1</td>\n      <td>0</td>\n    </tr>\n    <tr>\n      <th>covid lockdown</th>\n      <td>-1</td>\n      <td>0</td>\n    </tr>\n    <tr>\n      <th>covid lockdown</th>\n      <td>0</td>\n      <td>0</td>\n    </tr>\n    <tr>\n      <th>covid lockdown</th>\n      <td>14</td>\n      <td>0</td>\n    </tr>\n  </tbody>\n</table>\n</div>"
     },
     "metadata": {},
     "execution_count": 39
    }
   ],
   "source": [
    "Q3                               "
   ]
  },
  {
   "cell_type": "code",
   "execution_count": 36,
   "metadata": {},
   "outputs": [
    {
     "output_type": "display_data",
     "data": {
      "text/plain": "<Figure size 432x288 with 2 Axes>",
      "image/svg+xml": "<?xml version=\"1.0\" encoding=\"utf-8\" standalone=\"no\"?>\n<!DOCTYPE svg PUBLIC \"-//W3C//DTD SVG 1.1//EN\"\n  \"http://www.w3.org/Graphics/SVG/1.1/DTD/svg11.dtd\">\n<!-- Created with matplotlib (https://matplotlib.org/) -->\n<svg height=\"252.317344pt\" version=\"1.1\" viewBox=\"0 0 349.43325 252.317344\" width=\"349.43325pt\" xmlns=\"http://www.w3.org/2000/svg\" xmlns:xlink=\"http://www.w3.org/1999/xlink\">\n <defs>\n  <style type=\"text/css\">\n*{stroke-linecap:butt;stroke-linejoin:round;}\n  </style>\n </defs>\n <g id=\"figure_1\">\n  <g id=\"patch_1\">\n   <path d=\"M -0 252.317344 \nL 349.43325 252.317344 \nL 349.43325 0 \nL -0 0 \nz\n\" style=\"fill:none;\"/>\n  </g>\n  <g id=\"axes_1\">\n   <g id=\"patch_2\">\n    <path d=\"M 23.878125 228.439219 \nL 291.718125 228.439219 \nL 291.718125 10.999219 \nL 23.878125 10.999219 \nz\n\" style=\"fill:#ffffff;\"/>\n   </g>\n   <g id=\"QuadMesh_1\">\n    <path clip-path=\"url(#p1a01e307fd)\" d=\"M 23.878125 10.999219 \nL 157.798125 10.999219 \nL 157.798125 119.719219 \nL 23.878125 119.719219 \nL 23.878125 10.999219 \n\" style=\"fill:#da3b46;\"/>\n    <path clip-path=\"url(#p1a01e307fd)\" d=\"M 157.798125 10.999219 \nL 291.718125 10.999219 \nL 291.718125 119.719219 \nL 157.798125 119.719219 \nL 157.798125 10.999219 \n\" style=\"fill:#4479bb;\"/>\n    <path clip-path=\"url(#p1a01e307fd)\" d=\"M 23.878125 119.719219 \nL 157.798125 119.719219 \nL 157.798125 228.439219 \nL 23.878125 228.439219 \nL 23.878125 119.719219 \n\" style=\"fill:#4479bb;\"/>\n    <path clip-path=\"url(#p1a01e307fd)\" d=\"M 157.798125 119.719219 \nL 291.718125 119.719219 \nL 291.718125 228.439219 \nL 157.798125 228.439219 \nL 157.798125 119.719219 \n\" style=\"fill:#da3b46;\"/>\n   </g>\n   <g id=\"matplotlib.axis_1\">\n    <g id=\"xtick_1\">\n     <g id=\"line2d_1\">\n      <defs>\n       <path d=\"M 0 0 \nL 0 3.5 \n\" id=\"mc61fe1bf21\" style=\"stroke:#000000;stroke-width:0.8;\"/>\n      </defs>\n      <g>\n       <use style=\"stroke:#000000;stroke-width:0.8;\" x=\"90.838125\" xlink:href=\"#mc61fe1bf21\" y=\"228.439219\"/>\n      </g>\n     </g>\n     <g id=\"text_1\">\n      <!-- 0 -->\n      <defs>\n       <path d=\"M 31.78125 66.40625 \nQ 24.171875 66.40625 20.328125 58.90625 \nQ 16.5 51.421875 16.5 36.375 \nQ 16.5 21.390625 20.328125 13.890625 \nQ 24.171875 6.390625 31.78125 6.390625 \nQ 39.453125 6.390625 43.28125 13.890625 \nQ 47.125 21.390625 47.125 36.375 \nQ 47.125 51.421875 43.28125 58.90625 \nQ 39.453125 66.40625 31.78125 66.40625 \nz\nM 31.78125 74.21875 \nQ 44.046875 74.21875 50.515625 64.515625 \nQ 56.984375 54.828125 56.984375 36.375 \nQ 56.984375 17.96875 50.515625 8.265625 \nQ 44.046875 -1.421875 31.78125 -1.421875 \nQ 19.53125 -1.421875 13.0625 8.265625 \nQ 6.59375 17.96875 6.59375 36.375 \nQ 6.59375 54.828125 13.0625 64.515625 \nQ 19.53125 74.21875 31.78125 74.21875 \nz\n\" id=\"DejaVuSans-48\"/>\n      </defs>\n      <g transform=\"translate(87.656875 243.037656)scale(0.1 -0.1)\">\n       <use xlink:href=\"#DejaVuSans-48\"/>\n      </g>\n     </g>\n    </g>\n    <g id=\"xtick_2\">\n     <g id=\"line2d_2\">\n      <g>\n       <use style=\"stroke:#000000;stroke-width:0.8;\" x=\"224.758125\" xlink:href=\"#mc61fe1bf21\" y=\"228.439219\"/>\n      </g>\n     </g>\n     <g id=\"text_2\">\n      <!-- 1 -->\n      <defs>\n       <path d=\"M 12.40625 8.296875 \nL 28.515625 8.296875 \nL 28.515625 63.921875 \nL 10.984375 60.40625 \nL 10.984375 69.390625 \nL 28.421875 72.90625 \nL 38.28125 72.90625 \nL 38.28125 8.296875 \nL 54.390625 8.296875 \nL 54.390625 0 \nL 12.40625 0 \nz\n\" id=\"DejaVuSans-49\"/>\n      </defs>\n      <g transform=\"translate(221.576875 243.037656)scale(0.1 -0.1)\">\n       <use xlink:href=\"#DejaVuSans-49\"/>\n      </g>\n     </g>\n    </g>\n   </g>\n   <g id=\"matplotlib.axis_2\">\n    <g id=\"ytick_1\">\n     <g id=\"line2d_3\">\n      <defs>\n       <path d=\"M 0 0 \nL -3.5 0 \n\" id=\"m921f6cc104\" style=\"stroke:#000000;stroke-width:0.8;\"/>\n      </defs>\n      <g>\n       <use style=\"stroke:#000000;stroke-width:0.8;\" x=\"23.878125\" xlink:href=\"#m921f6cc104\" y=\"65.359219\"/>\n      </g>\n     </g>\n     <g id=\"text_3\">\n      <!-- 0 -->\n      <g transform=\"translate(14.798438 67.9225)rotate(-90)scale(0.1 -0.1)\">\n       <use xlink:href=\"#DejaVuSans-48\"/>\n      </g>\n     </g>\n    </g>\n    <g id=\"ytick_2\">\n     <g id=\"line2d_4\">\n      <g>\n       <use style=\"stroke:#000000;stroke-width:0.8;\" x=\"23.878125\" xlink:href=\"#m921f6cc104\" y=\"174.079219\"/>\n      </g>\n     </g>\n     <g id=\"text_4\">\n      <!-- 1 -->\n      <g transform=\"translate(14.798438 176.6425)rotate(-90)scale(0.1 -0.1)\">\n       <use xlink:href=\"#DejaVuSans-49\"/>\n      </g>\n     </g>\n    </g>\n   </g>\n   <g id=\"text_5\">\n    <!-- 1 -->\n    <g style=\"fill:#ffffff;\" transform=\"translate(87.656875 68.118594)scale(0.1 -0.1)\">\n     <use xlink:href=\"#DejaVuSans-49\"/>\n    </g>\n   </g>\n   <g id=\"text_6\">\n    <!-- 0.22 -->\n    <defs>\n     <path d=\"M 10.6875 12.40625 \nL 21 12.40625 \nL 21 0 \nL 10.6875 0 \nz\n\" id=\"DejaVuSans-46\"/>\n     <path d=\"M 19.1875 8.296875 \nL 53.609375 8.296875 \nL 53.609375 0 \nL 7.328125 0 \nL 7.328125 8.296875 \nQ 12.9375 14.109375 22.625 23.890625 \nQ 32.328125 33.6875 34.8125 36.53125 \nQ 39.546875 41.84375 41.421875 45.53125 \nQ 43.3125 49.21875 43.3125 52.78125 \nQ 43.3125 58.59375 39.234375 62.25 \nQ 35.15625 65.921875 28.609375 65.921875 \nQ 23.96875 65.921875 18.8125 64.3125 \nQ 13.671875 62.703125 7.8125 59.421875 \nL 7.8125 69.390625 \nQ 13.765625 71.78125 18.9375 73 \nQ 24.125 74.21875 28.421875 74.21875 \nQ 39.75 74.21875 46.484375 68.546875 \nQ 53.21875 62.890625 53.21875 53.421875 \nQ 53.21875 48.921875 51.53125 44.890625 \nQ 49.859375 40.875 45.40625 35.40625 \nQ 44.1875 33.984375 37.640625 27.21875 \nQ 31.109375 20.453125 19.1875 8.296875 \nz\n\" id=\"DejaVuSans-50\"/>\n    </defs>\n    <g style=\"fill:#ffffff;\" transform=\"translate(213.625313 68.118594)scale(0.1 -0.1)\">\n     <use xlink:href=\"#DejaVuSans-48\"/>\n     <use x=\"63.623047\" xlink:href=\"#DejaVuSans-46\"/>\n     <use x=\"95.410156\" xlink:href=\"#DejaVuSans-50\"/>\n     <use x=\"159.033203\" xlink:href=\"#DejaVuSans-50\"/>\n    </g>\n   </g>\n   <g id=\"text_7\">\n    <!-- 0.22 -->\n    <g style=\"fill:#ffffff;\" transform=\"translate(79.705313 176.838594)scale(0.1 -0.1)\">\n     <use xlink:href=\"#DejaVuSans-48\"/>\n     <use x=\"63.623047\" xlink:href=\"#DejaVuSans-46\"/>\n     <use x=\"95.410156\" xlink:href=\"#DejaVuSans-50\"/>\n     <use x=\"159.033203\" xlink:href=\"#DejaVuSans-50\"/>\n    </g>\n   </g>\n   <g id=\"text_8\">\n    <!-- 1 -->\n    <g style=\"fill:#ffffff;\" transform=\"translate(221.576875 176.838594)scale(0.1 -0.1)\">\n     <use xlink:href=\"#DejaVuSans-49\"/>\n    </g>\n   </g>\n  </g>\n  <g id=\"axes_2\">\n   <g id=\"patch_3\">\n    <path clip-path=\"url(#p090edbf07a)\" d=\"M 308.458125 228.439219 \nL 308.458125 227.589844 \nL 308.458125 11.848594 \nL 308.458125 10.999219 \nL 319.330125 10.999219 \nL 319.330125 11.848594 \nL 319.330125 227.589844 \nL 319.330125 228.439219 \nz\n\" style=\"fill:#ffffff;stroke:#ffffff;stroke-linejoin:miter;stroke-width:0.01;\"/>\n   </g>\n   <image height=\"217\" id=\"imagef74a55e5af\" transform=\"scale(1 -1)translate(0 -217)\" width=\"11\" x=\"308\" xlink:href=\"data:image/png;base64,\niVBORw0KGgoAAAANSUhEUgAAAAsAAADZCAYAAAD2WsoCAAAABHNCSVQICAgIfAhkiAAAAUFJREFUaIHtmEFuxDAMA2XHKNCH7af6tX6sXSTxnnvzHAagi82ZEGSKpui0x9f3rMVv9NZWsTUAtkYjlQ+tMurZY6N3wgYBMzaWoUHaIGz0brUBuqjRyhs3aSPjpqChsMoZEmXaCBE/kaipjQiexQNqayJE/Kiyt9q8oYSstpAk4xnjAfwrhw0AFnOdaF/7WcGO2iDLO+XChnidd8B/L/4dtbFlCNzwgB/1XAaDh8cb/Pcbnz+/6+C6l//t1ZjzlirXJG1cl1SZgW/AxvQqe2x4E0RCupDqCHUE7AlpIp61cYfc7hDxs6Eg6pjXocrWTYFrQjOZG4w7ZYLsgMgYCRsZezBE/Mz5Pa9DPbM9qLUhRgjN+b0k40WIDW+3aLlE/F7YFkPgeVqVM+yLRYiMJ565JjTn94ayofhjXvQhKVeS6Aui8/mu2yf9AwAAAABJRU5ErkJggg==\" y=\"-11\"/>\n   <g id=\"matplotlib.axis_3\"/>\n   <g id=\"matplotlib.axis_4\">\n    <g id=\"ytick_3\">\n     <g id=\"line2d_5\">\n      <defs>\n       <path d=\"M 0 0 \nL 3.5 0 \n\" id=\"md0a7b33c27\" style=\"stroke:#000000;stroke-width:0.8;\"/>\n      </defs>\n      <g>\n       <use style=\"stroke:#000000;stroke-width:0.8;\" x=\"319.330125\" xlink:href=\"#md0a7b33c27\" y=\"205.370414\"/>\n      </g>\n     </g>\n     <g id=\"text_9\">\n      <!-- 0.3 -->\n      <defs>\n       <path d=\"M 40.578125 39.3125 \nQ 47.65625 37.796875 51.625 33 \nQ 55.609375 28.21875 55.609375 21.1875 \nQ 55.609375 10.40625 48.1875 4.484375 \nQ 40.765625 -1.421875 27.09375 -1.421875 \nQ 22.515625 -1.421875 17.65625 -0.515625 \nQ 12.796875 0.390625 7.625 2.203125 \nL 7.625 11.71875 \nQ 11.71875 9.328125 16.59375 8.109375 \nQ 21.484375 6.890625 26.8125 6.890625 \nQ 36.078125 6.890625 40.9375 10.546875 \nQ 45.796875 14.203125 45.796875 21.1875 \nQ 45.796875 27.640625 41.28125 31.265625 \nQ 36.765625 34.90625 28.71875 34.90625 \nL 20.21875 34.90625 \nL 20.21875 43.015625 \nL 29.109375 43.015625 \nQ 36.375 43.015625 40.234375 45.921875 \nQ 44.09375 48.828125 44.09375 54.296875 \nQ 44.09375 59.90625 40.109375 62.90625 \nQ 36.140625 65.921875 28.71875 65.921875 \nQ 24.65625 65.921875 20.015625 65.03125 \nQ 15.375 64.15625 9.8125 62.3125 \nL 9.8125 71.09375 \nQ 15.4375 72.65625 20.34375 73.4375 \nQ 25.25 74.21875 29.59375 74.21875 \nQ 40.828125 74.21875 47.359375 69.109375 \nQ 53.90625 64.015625 53.90625 55.328125 \nQ 53.90625 49.265625 50.4375 45.09375 \nQ 46.96875 40.921875 40.578125 39.3125 \nz\n\" id=\"DejaVuSans-51\"/>\n      </defs>\n      <g transform=\"translate(326.330125 209.169633)scale(0.1 -0.1)\">\n       <use xlink:href=\"#DejaVuSans-48\"/>\n       <use x=\"63.623047\" xlink:href=\"#DejaVuSans-46\"/>\n       <use x=\"95.410156\" xlink:href=\"#DejaVuSans-51\"/>\n      </g>\n     </g>\n    </g>\n    <g id=\"ytick_4\">\n     <g id=\"line2d_6\">\n      <g>\n       <use style=\"stroke:#000000;stroke-width:0.8;\" x=\"319.330125\" xlink:href=\"#md0a7b33c27\" y=\"177.6031\"/>\n      </g>\n     </g>\n     <g id=\"text_10\">\n      <!-- 0.4 -->\n      <defs>\n       <path d=\"M 37.796875 64.3125 \nL 12.890625 25.390625 \nL 37.796875 25.390625 \nz\nM 35.203125 72.90625 \nL 47.609375 72.90625 \nL 47.609375 25.390625 \nL 58.015625 25.390625 \nL 58.015625 17.1875 \nL 47.609375 17.1875 \nL 47.609375 0 \nL 37.796875 0 \nL 37.796875 17.1875 \nL 4.890625 17.1875 \nL 4.890625 26.703125 \nz\n\" id=\"DejaVuSans-52\"/>\n      </defs>\n      <g transform=\"translate(326.330125 181.402319)scale(0.1 -0.1)\">\n       <use xlink:href=\"#DejaVuSans-48\"/>\n       <use x=\"63.623047\" xlink:href=\"#DejaVuSans-46\"/>\n       <use x=\"95.410156\" xlink:href=\"#DejaVuSans-52\"/>\n      </g>\n     </g>\n    </g>\n    <g id=\"ytick_5\">\n     <g id=\"line2d_7\">\n      <g>\n       <use style=\"stroke:#000000;stroke-width:0.8;\" x=\"319.330125\" xlink:href=\"#md0a7b33c27\" y=\"149.835787\"/>\n      </g>\n     </g>\n     <g id=\"text_11\">\n      <!-- 0.5 -->\n      <defs>\n       <path d=\"M 10.796875 72.90625 \nL 49.515625 72.90625 \nL 49.515625 64.59375 \nL 19.828125 64.59375 \nL 19.828125 46.734375 \nQ 21.96875 47.46875 24.109375 47.828125 \nQ 26.265625 48.1875 28.421875 48.1875 \nQ 40.625 48.1875 47.75 41.5 \nQ 54.890625 34.8125 54.890625 23.390625 \nQ 54.890625 11.625 47.5625 5.09375 \nQ 40.234375 -1.421875 26.90625 -1.421875 \nQ 22.3125 -1.421875 17.546875 -0.640625 \nQ 12.796875 0.140625 7.71875 1.703125 \nL 7.71875 11.625 \nQ 12.109375 9.234375 16.796875 8.0625 \nQ 21.484375 6.890625 26.703125 6.890625 \nQ 35.15625 6.890625 40.078125 11.328125 \nQ 45.015625 15.765625 45.015625 23.390625 \nQ 45.015625 31 40.078125 35.4375 \nQ 35.15625 39.890625 26.703125 39.890625 \nQ 22.75 39.890625 18.8125 39.015625 \nQ 14.890625 38.140625 10.796875 36.28125 \nz\n\" id=\"DejaVuSans-53\"/>\n      </defs>\n      <g transform=\"translate(326.330125 153.635006)scale(0.1 -0.1)\">\n       <use xlink:href=\"#DejaVuSans-48\"/>\n       <use x=\"63.623047\" xlink:href=\"#DejaVuSans-46\"/>\n       <use x=\"95.410156\" xlink:href=\"#DejaVuSans-53\"/>\n      </g>\n     </g>\n    </g>\n    <g id=\"ytick_6\">\n     <g id=\"line2d_8\">\n      <g>\n       <use style=\"stroke:#000000;stroke-width:0.8;\" x=\"319.330125\" xlink:href=\"#md0a7b33c27\" y=\"122.068473\"/>\n      </g>\n     </g>\n     <g id=\"text_12\">\n      <!-- 0.6 -->\n      <defs>\n       <path d=\"M 33.015625 40.375 \nQ 26.375 40.375 22.484375 35.828125 \nQ 18.609375 31.296875 18.609375 23.390625 \nQ 18.609375 15.53125 22.484375 10.953125 \nQ 26.375 6.390625 33.015625 6.390625 \nQ 39.65625 6.390625 43.53125 10.953125 \nQ 47.40625 15.53125 47.40625 23.390625 \nQ 47.40625 31.296875 43.53125 35.828125 \nQ 39.65625 40.375 33.015625 40.375 \nz\nM 52.59375 71.296875 \nL 52.59375 62.3125 \nQ 48.875 64.0625 45.09375 64.984375 \nQ 41.3125 65.921875 37.59375 65.921875 \nQ 27.828125 65.921875 22.671875 59.328125 \nQ 17.53125 52.734375 16.796875 39.40625 \nQ 19.671875 43.65625 24.015625 45.921875 \nQ 28.375 48.1875 33.59375 48.1875 \nQ 44.578125 48.1875 50.953125 41.515625 \nQ 57.328125 34.859375 57.328125 23.390625 \nQ 57.328125 12.15625 50.6875 5.359375 \nQ 44.046875 -1.421875 33.015625 -1.421875 \nQ 20.359375 -1.421875 13.671875 8.265625 \nQ 6.984375 17.96875 6.984375 36.375 \nQ 6.984375 53.65625 15.1875 63.9375 \nQ 23.390625 74.21875 37.203125 74.21875 \nQ 40.921875 74.21875 44.703125 73.484375 \nQ 48.484375 72.75 52.59375 71.296875 \nz\n\" id=\"DejaVuSans-54\"/>\n      </defs>\n      <g transform=\"translate(326.330125 125.867692)scale(0.1 -0.1)\">\n       <use xlink:href=\"#DejaVuSans-48\"/>\n       <use x=\"63.623047\" xlink:href=\"#DejaVuSans-46\"/>\n       <use x=\"95.410156\" xlink:href=\"#DejaVuSans-54\"/>\n      </g>\n     </g>\n    </g>\n    <g id=\"ytick_7\">\n     <g id=\"line2d_9\">\n      <g>\n       <use style=\"stroke:#000000;stroke-width:0.8;\" x=\"319.330125\" xlink:href=\"#md0a7b33c27\" y=\"94.30116\"/>\n      </g>\n     </g>\n     <g id=\"text_13\">\n      <!-- 0.7 -->\n      <defs>\n       <path d=\"M 8.203125 72.90625 \nL 55.078125 72.90625 \nL 55.078125 68.703125 \nL 28.609375 0 \nL 18.3125 0 \nL 43.21875 64.59375 \nL 8.203125 64.59375 \nz\n\" id=\"DejaVuSans-55\"/>\n      </defs>\n      <g transform=\"translate(326.330125 98.100378)scale(0.1 -0.1)\">\n       <use xlink:href=\"#DejaVuSans-48\"/>\n       <use x=\"63.623047\" xlink:href=\"#DejaVuSans-46\"/>\n       <use x=\"95.410156\" xlink:href=\"#DejaVuSans-55\"/>\n      </g>\n     </g>\n    </g>\n    <g id=\"ytick_8\">\n     <g id=\"line2d_10\">\n      <g>\n       <use style=\"stroke:#000000;stroke-width:0.8;\" x=\"319.330125\" xlink:href=\"#md0a7b33c27\" y=\"66.533846\"/>\n      </g>\n     </g>\n     <g id=\"text_14\">\n      <!-- 0.8 -->\n      <defs>\n       <path d=\"M 31.78125 34.625 \nQ 24.75 34.625 20.71875 30.859375 \nQ 16.703125 27.09375 16.703125 20.515625 \nQ 16.703125 13.921875 20.71875 10.15625 \nQ 24.75 6.390625 31.78125 6.390625 \nQ 38.8125 6.390625 42.859375 10.171875 \nQ 46.921875 13.96875 46.921875 20.515625 \nQ 46.921875 27.09375 42.890625 30.859375 \nQ 38.875 34.625 31.78125 34.625 \nz\nM 21.921875 38.8125 \nQ 15.578125 40.375 12.03125 44.71875 \nQ 8.5 49.078125 8.5 55.328125 \nQ 8.5 64.0625 14.71875 69.140625 \nQ 20.953125 74.21875 31.78125 74.21875 \nQ 42.671875 74.21875 48.875 69.140625 \nQ 55.078125 64.0625 55.078125 55.328125 \nQ 55.078125 49.078125 51.53125 44.71875 \nQ 48 40.375 41.703125 38.8125 \nQ 48.828125 37.15625 52.796875 32.3125 \nQ 56.78125 27.484375 56.78125 20.515625 \nQ 56.78125 9.90625 50.3125 4.234375 \nQ 43.84375 -1.421875 31.78125 -1.421875 \nQ 19.734375 -1.421875 13.25 4.234375 \nQ 6.78125 9.90625 6.78125 20.515625 \nQ 6.78125 27.484375 10.78125 32.3125 \nQ 14.796875 37.15625 21.921875 38.8125 \nz\nM 18.3125 54.390625 \nQ 18.3125 48.734375 21.84375 45.5625 \nQ 25.390625 42.390625 31.78125 42.390625 \nQ 38.140625 42.390625 41.71875 45.5625 \nQ 45.3125 48.734375 45.3125 54.390625 \nQ 45.3125 60.0625 41.71875 63.234375 \nQ 38.140625 66.40625 31.78125 66.40625 \nQ 25.390625 66.40625 21.84375 63.234375 \nQ 18.3125 60.0625 18.3125 54.390625 \nz\n\" id=\"DejaVuSans-56\"/>\n      </defs>\n      <g transform=\"translate(326.330125 70.333065)scale(0.1 -0.1)\">\n       <use xlink:href=\"#DejaVuSans-48\"/>\n       <use x=\"63.623047\" xlink:href=\"#DejaVuSans-46\"/>\n       <use x=\"95.410156\" xlink:href=\"#DejaVuSans-56\"/>\n      </g>\n     </g>\n    </g>\n    <g id=\"ytick_9\">\n     <g id=\"line2d_11\">\n      <g>\n       <use style=\"stroke:#000000;stroke-width:0.8;\" x=\"319.330125\" xlink:href=\"#md0a7b33c27\" y=\"38.766532\"/>\n      </g>\n     </g>\n     <g id=\"text_15\">\n      <!-- 0.9 -->\n      <defs>\n       <path d=\"M 10.984375 1.515625 \nL 10.984375 10.5 \nQ 14.703125 8.734375 18.5 7.8125 \nQ 22.3125 6.890625 25.984375 6.890625 \nQ 35.75 6.890625 40.890625 13.453125 \nQ 46.046875 20.015625 46.78125 33.40625 \nQ 43.953125 29.203125 39.59375 26.953125 \nQ 35.25 24.703125 29.984375 24.703125 \nQ 19.046875 24.703125 12.671875 31.3125 \nQ 6.296875 37.9375 6.296875 49.421875 \nQ 6.296875 60.640625 12.9375 67.421875 \nQ 19.578125 74.21875 30.609375 74.21875 \nQ 43.265625 74.21875 49.921875 64.515625 \nQ 56.59375 54.828125 56.59375 36.375 \nQ 56.59375 19.140625 48.40625 8.859375 \nQ 40.234375 -1.421875 26.421875 -1.421875 \nQ 22.703125 -1.421875 18.890625 -0.6875 \nQ 15.09375 0.046875 10.984375 1.515625 \nz\nM 30.609375 32.421875 \nQ 37.25 32.421875 41.125 36.953125 \nQ 45.015625 41.5 45.015625 49.421875 \nQ 45.015625 57.28125 41.125 61.84375 \nQ 37.25 66.40625 30.609375 66.40625 \nQ 23.96875 66.40625 20.09375 61.84375 \nQ 16.21875 57.28125 16.21875 49.421875 \nQ 16.21875 41.5 20.09375 36.953125 \nQ 23.96875 32.421875 30.609375 32.421875 \nz\n\" id=\"DejaVuSans-57\"/>\n      </defs>\n      <g transform=\"translate(326.330125 42.565751)scale(0.1 -0.1)\">\n       <use xlink:href=\"#DejaVuSans-48\"/>\n       <use x=\"63.623047\" xlink:href=\"#DejaVuSans-46\"/>\n       <use x=\"95.410156\" xlink:href=\"#DejaVuSans-57\"/>\n      </g>\n     </g>\n    </g>\n    <g id=\"ytick_10\">\n     <g id=\"line2d_12\">\n      <g>\n       <use style=\"stroke:#000000;stroke-width:0.8;\" x=\"319.330125\" xlink:href=\"#md0a7b33c27\" y=\"10.999219\"/>\n      </g>\n     </g>\n     <g id=\"text_16\">\n      <!-- 1.0 -->\n      <g transform=\"translate(326.330125 14.798438)scale(0.1 -0.1)\">\n       <use xlink:href=\"#DejaVuSans-49\"/>\n       <use x=\"63.623047\" xlink:href=\"#DejaVuSans-46\"/>\n       <use x=\"95.410156\" xlink:href=\"#DejaVuSans-48\"/>\n      </g>\n     </g>\n    </g>\n   </g>\n   <g id=\"patch_4\">\n    <path d=\"M 308.458125 228.439219 \nL 308.458125 227.589844 \nL 308.458125 11.848594 \nL 308.458125 10.999219 \nL 319.330125 10.999219 \nL 319.330125 11.848594 \nL 319.330125 227.589844 \nL 319.330125 228.439219 \nz\n\" style=\"fill:none;\"/>\n   </g>\n  </g>\n </g>\n <defs>\n  <clipPath id=\"p1a01e307fd\">\n   <rect height=\"217.44\" width=\"267.84\" x=\"23.878125\" y=\"10.999219\"/>\n  </clipPath>\n  <clipPath id=\"p090edbf07a\">\n   <rect height=\"217.44\" width=\"10.872\" x=\"308.458125\" y=\"10.999219\"/>\n  </clipPath>\n </defs>\n</svg>\n",
      "image/png": "[encoded data removed]"
     },
     "metadata": {
      "needs_background": "light"
     }
    }
   ],
   "source": [
    "sns.heatmap(np.corrcoef(Q3.values.T),cmap=cmap, annot=True)  #Rankingdifference\n",
    "plt.show()"
   ]
  },
  {
   "cell_type": "code",
   "execution_count": 24,
   "metadata": {},
   "outputs": [
    {
     "output_type": "execute_result",
     "data": {
      "text/plain": "[7, 2]"
     },
     "metadata": {},
     "execution_count": 24
    }
   ],
   "source": [
    "[ len(Q3[x].unique()) for x in Q3.columns]   #Coverage"
   ]
  },
  {
   "cell_type": "code",
   "execution_count": null,
   "metadata": {},
   "outputs": [],
   "source": []
  }
 ],
 "metadata": {
  "kernelspec": {
   "display_name": "Python 3",
   "language": "python",
   "name": "python3"
  },
  "language_info": {
   "codemirror_mode": {
    "name": "ipython",
    "version": 3
   },
   "file_extension": ".py",
   "mimetype": "text/x-python",
   "name": "python",
   "nbconvert_exporter": "python",
   "pygments_lexer": "ipython3",
   "version": "3.8.3-final"
  }
 },
 "nbformat": 4,
 "nbformat_minor": 4
}